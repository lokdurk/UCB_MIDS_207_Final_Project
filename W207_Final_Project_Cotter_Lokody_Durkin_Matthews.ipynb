{
  "cells": [
    {
      "cell_type": "markdown",
      "metadata": {
        "id": "yBGpTcLsHB31"
      },
      "source": [
        "# **UCB W207 Final Project**\n",
        "\n",
        "## Using Machine Learning to Predict Executive Gender Pay Gaps \n",
        "\n",
        "Section 3\n",
        "18 April 2023\n",
        "\n",
        "Tess Cotter, Claudia Lokody Durkin, Jessica Matthews\n",
        "\n"
      ]
    },
    {
      "cell_type": "markdown",
      "metadata": {
        "id": "I4N-CcyI9k2t"
      },
      "source": [
        "# Introduction: Problem Motivation\n",
        "\n",
        "“Women are underrepresented in the corporate business world and the top of the income distribution more generally, where relatively large gender wage gaps remain.”\n",
        "(Blau and Kahn, 2017; Goldin 2014, Guvene et al., 2020).\n",
        "\n",
        "The World Economic Forum projected that it would take 151 years to close the gender pay gap. Many companies have claimed that making progress on pay equity is a priority. Executives are often the most powerful and visible points at which to understand. Limited progress at equity at the top raises even more significant questions of what might be true for people with less leverage and publicity. Utilizing the public SEC dataset focused on executive compensation, we sought to understand gender-based variation, if any, among total compensation.\n",
        "\n",
        "Executives are often the most powerful and visible points at which to understand. If there is little progress in pay equity, let alone representation at the top, that raises even more important questions of what might be true for employees throughout the company. \n",
        "\n",
        "Despite some progress and public interest in expanding gender equality in the workplace, pay disparities continue to persist. Organizations must address this issue and ensure all employees receive fair and equitable compensation. To understand the success of leadership and boards in addressing this at the executive level, we utilized an SEC dataset focused on executive compensation to understand gender-based variation, if any, in total compensation among executives. We also examine various analysis and machine learning techniques to predict executive pay gaps between men and women."
      ]
    },
    {
      "cell_type": "markdown",
      "metadata": {
        "id": "EVRaG5k5vmcZ"
      },
      "source": [
        "## Outline for our notebook\n",
        "\n",
        "* Section 1: We import the data, the primary source being the US Securities Exchange Commission.\n",
        "* Section 2: We undertake feature engineering and data cleaning. We note the data set is quite unbalanced, with 85% of the observations being male, and we rebalance the data set to be 50/50.\n",
        "* Section 3: Simple exploratory data analysis is performed. We examine means and medians and, for the most part, find that there is always a gap between men and women, no matter the sector or position, the exception being female CEOS. \n",
        "* Section 4:  We build several models, starting from very simple, one feature (Gender), one layer to multi-layer, multi-feature, and using a transformer for categorical variables. \n",
        "* Section 5:  Discussion of the ethical considerations.\n",
        "* Section 6:  Conclusions from our analysis. "
      ]
    },
    {
      "cell_type": "markdown",
      "metadata": {
        "id": "UITwLvKdw-El"
      },
      "source": [
        "# Importing libraries "
      ]
    },
    {
      "cell_type": "code",
      "execution_count": 44,
      "metadata": {
        "id": "-FYB6UoFHQAt"
      },
      "outputs": [],
      "source": [
        "# Import the libraries we'll use below.\n",
        "import numpy as np\n",
        "from matplotlib import pyplot as plt\n",
        "import matplotlib.pyplot as plt\n",
        "import matplotlib as mpl\n",
        "import matplotlib.patches as mpatches\n",
        "import pandas as pd\n",
        "import seaborn as sns \n",
        "sns.set(style=\"darkgrid\") \n",
        "import plotly.graph_objs as plotly  \n",
        "import tensorflow as tf\n",
        "from tensorflow import keras\n",
        "from sklearn.linear_model import LogisticRegression\n",
        "from sklearn.preprocessing import OneHotEncoder\n",
        "from sklearn.compose import make_column_transformer\n",
        "from sklearn.metrics import mean_squared_error\n",
        "from sklearn.metrics import r2_score\n",
        "from sklearn.linear_model import Ridge\n",
        "\n",
        "#setting  seed\n",
        "np.random.seed(100)"
      ]
    },
    {
      "cell_type": "markdown",
      "metadata": {
        "id": "NwGe-k6-zDRt"
      },
      "source": [
        "# Section 1: Importing data\n",
        "\n",
        "Our main data source is the US Securities Exchange Commission (SEC), Genderize.io, Yahoo Finance. The data are not processed. \n",
        "\n",
        "The features included year, Total (which denotes total compensation: a summation of salary, stock awards, option awards, non-equity incentive compensation and other compensation), Market Cap (stock price * shares outstanding), last and first names, sector (such a technology) and industry (a further classification of sector). \n",
        "\n",
        "The original data frame consists of 293,504 rows and 19 features."
      ]
    },
    {
      "cell_type": "code",
      "execution_count": 45,
      "metadata": {
        "id": "gDeRDD4AgCwz"
      },
      "outputs": [],
      "source": [
        "# Split the text string of position to create First Name and Last Name Columns\n",
        "\n",
        "# using APIs but API keys aren't provided, thus we comment out the code. \n",
        "#init_df['First_Name'] = init_df.Name.str.split(' ', expand = True)[0]\n",
        "#init_df['Last_Name'] = init_df.Name.str.split(' ', expand = True)[1]\n",
        "# init_df.head()"
      ]
    },
    {
      "cell_type": "code",
      "execution_count": 46,
      "metadata": {
        "id": "wqxMBN92ekXn"
      },
      "outputs": [],
      "source": [
        "# Get gender based on list of first names\n",
        "\n",
        "def get_gender(list_of_first_names): \n",
        "    \"\"\"Takes in a list of names and makes queries in batches of 10 to generizer.\"\"\"\n",
        "    \n",
        "    #headers = {'Authorization': f'token {os.environ[\"GENDERIZER_KEY\"]}'}\n",
        "    #authorization = f'&apikey={os.environ[\"API_KEY\"]}'\n",
        "\n",
        "    i = 0\n",
        "    list_of_ten = []\n",
        "    output_list = []\n",
        "   \n",
        "    for i in range(999): \n",
        "        list_of_ten.append(list_of_first_names[i])\n",
        "\n",
        "        if len(list_of_ten) == 10:\n",
        "            params = {'name': list_of_ten}\n",
        "            r = requests.get('https://api.genderize.io/', params=params)\n",
        "            gen_response = r.json()\n",
        "            output_list.append(gen_response)\n",
        "            list_of_ten = []\n",
        "    \n",
        "\n",
        "    return output_list"
      ]
    },
    {
      "cell_type": "code",
      "execution_count": 47,
      "metadata": {
        "colab": {
          "base_uri": "https://localhost:8080/",
          "height": 1000
        },
        "id": "v8gAV3nXHVU2",
        "outputId": "5fe369fe-6f7a-45b4-c052-66b6401a49a9"
      },
      "outputs": [
        {
          "data": {
            "text/html": [
              "<div>\n",
              "<style scoped>\n",
              "    .dataframe tbody tr th:only-of-type {\n",
              "        vertical-align: middle;\n",
              "    }\n",
              "\n",
              "    .dataframe tbody tr th {\n",
              "        vertical-align: top;\n",
              "    }\n",
              "\n",
              "    .dataframe thead th {\n",
              "        text-align: right;\n",
              "    }\n",
              "</style>\n",
              "<table border=\"1\" class=\"dataframe\">\n",
              "  <thead>\n",
              "    <tr style=\"text-align: right;\">\n",
              "      <th></th>\n",
              "      <th>Unnamed: 0</th>\n",
              "      <th>Unnamed: 0.1</th>\n",
              "      <th>CIK</th>\n",
              "      <th>Ticker</th>\n",
              "      <th>Name</th>\n",
              "      <th>Position</th>\n",
              "      <th>Year</th>\n",
              "      <th>Salary</th>\n",
              "      <th>Stock Awards</th>\n",
              "      <th>Option Awards</th>\n",
              "      <th>...</th>\n",
              "      <th>Other Compensation</th>\n",
              "      <th>Total</th>\n",
              "      <th>Last_Name</th>\n",
              "      <th>First_Name</th>\n",
              "      <th>assumed_gender</th>\n",
              "      <th>MarketCap</th>\n",
              "      <th>Sector</th>\n",
              "      <th>Industry</th>\n",
              "      <th>category</th>\n",
              "      <th>categorized_role</th>\n",
              "    </tr>\n",
              "  </thead>\n",
              "  <tbody>\n",
              "    <tr>\n",
              "      <th>0</th>\n",
              "      <td>0</td>\n",
              "      <td>0</td>\n",
              "      <td>320193</td>\n",
              "      <td>AAPL</td>\n",
              "      <td>Jeff Williams</td>\n",
              "      <td>Chief Operating Officer</td>\n",
              "      <td>2021</td>\n",
              "      <td>1000000</td>\n",
              "      <td>21959620</td>\n",
              "      <td>0</td>\n",
              "      <td>...</td>\n",
              "      <td>17437</td>\n",
              "      <td>26977057</td>\n",
              "      <td>Williams</td>\n",
              "      <td>Jeff</td>\n",
              "      <td>male</td>\n",
              "      <td>2336261668864</td>\n",
              "      <td>Technology</td>\n",
              "      <td>Consumer Electronics</td>\n",
              "      <td>COO</td>\n",
              "      <td>COO</td>\n",
              "    </tr>\n",
              "    <tr>\n",
              "      <th>1</th>\n",
              "      <td>1</td>\n",
              "      <td>1</td>\n",
              "      <td>320193</td>\n",
              "      <td>AAPL</td>\n",
              "      <td>Tim Cook</td>\n",
              "      <td>Chief Executive Officer</td>\n",
              "      <td>2021</td>\n",
              "      <td>3000000</td>\n",
              "      <td>82347835</td>\n",
              "      <td>0</td>\n",
              "      <td>...</td>\n",
              "      <td>1386559</td>\n",
              "      <td>98734394</td>\n",
              "      <td>Cook</td>\n",
              "      <td>Tim</td>\n",
              "      <td>male</td>\n",
              "      <td>2336261668864</td>\n",
              "      <td>Technology</td>\n",
              "      <td>Consumer Electronics</td>\n",
              "      <td>CEO</td>\n",
              "      <td>CEO</td>\n",
              "    </tr>\n",
              "    <tr>\n",
              "      <th>2</th>\n",
              "      <td>2</td>\n",
              "      <td>2</td>\n",
              "      <td>320193</td>\n",
              "      <td>AAPL</td>\n",
              "      <td>Kate Adams</td>\n",
              "      <td>Senior Vice President, General Counsel and Sec...</td>\n",
              "      <td>2021</td>\n",
              "      <td>1000000</td>\n",
              "      <td>21959620</td>\n",
              "      <td>0</td>\n",
              "      <td>...</td>\n",
              "      <td>14533</td>\n",
              "      <td>26974153</td>\n",
              "      <td>Adams</td>\n",
              "      <td>Kate</td>\n",
              "      <td>female</td>\n",
              "      <td>2336261668864</td>\n",
              "      <td>Technology</td>\n",
              "      <td>Consumer Electronics</td>\n",
              "      <td>GC</td>\n",
              "      <td>GC</td>\n",
              "    </tr>\n",
              "    <tr>\n",
              "      <th>3</th>\n",
              "      <td>3</td>\n",
              "      <td>3</td>\n",
              "      <td>320193</td>\n",
              "      <td>AAPL</td>\n",
              "      <td>Luca Maestri</td>\n",
              "      <td>Senior Vice President, Chief Financial Officer</td>\n",
              "      <td>2021</td>\n",
              "      <td>1000000</td>\n",
              "      <td>21959620</td>\n",
              "      <td>0</td>\n",
              "      <td>...</td>\n",
              "      <td>18883</td>\n",
              "      <td>26978503</td>\n",
              "      <td>Maestri</td>\n",
              "      <td>Luca</td>\n",
              "      <td>male</td>\n",
              "      <td>2336261668864</td>\n",
              "      <td>Technology</td>\n",
              "      <td>Consumer Electronics</td>\n",
              "      <td>CFO</td>\n",
              "      <td>CFO</td>\n",
              "    </tr>\n",
              "    <tr>\n",
              "      <th>4</th>\n",
              "      <td>4</td>\n",
              "      <td>4</td>\n",
              "      <td>320193</td>\n",
              "      <td>AAPL</td>\n",
              "      <td>Deirdre O Brien</td>\n",
              "      <td>Senior Vice President, Retail + People</td>\n",
              "      <td>2021</td>\n",
              "      <td>1000000</td>\n",
              "      <td>21959620</td>\n",
              "      <td>0</td>\n",
              "      <td>...</td>\n",
              "      <td>61191</td>\n",
              "      <td>27020811</td>\n",
              "      <td>O</td>\n",
              "      <td>Deirdre</td>\n",
              "      <td>female</td>\n",
              "      <td>2336261668864</td>\n",
              "      <td>Technology</td>\n",
              "      <td>Consumer Electronics</td>\n",
              "      <td>CHRO</td>\n",
              "      <td>CHRO</td>\n",
              "    </tr>\n",
              "    <tr>\n",
              "      <th>...</th>\n",
              "      <td>...</td>\n",
              "      <td>...</td>\n",
              "      <td>...</td>\n",
              "      <td>...</td>\n",
              "      <td>...</td>\n",
              "      <td>...</td>\n",
              "      <td>...</td>\n",
              "      <td>...</td>\n",
              "      <td>...</td>\n",
              "      <td>...</td>\n",
              "      <td>...</td>\n",
              "      <td>...</td>\n",
              "      <td>...</td>\n",
              "      <td>...</td>\n",
              "      <td>...</td>\n",
              "      <td>...</td>\n",
              "      <td>...</td>\n",
              "      <td>...</td>\n",
              "      <td>...</td>\n",
              "      <td>...</td>\n",
              "      <td>...</td>\n",
              "    </tr>\n",
              "    <tr>\n",
              "      <th>293499</th>\n",
              "      <td>293499</td>\n",
              "      <td>300108</td>\n",
              "      <td>36966</td>\n",
              "      <td>FHN</td>\n",
              "      <td>C. T. Tuggle</td>\n",
              "      <td>EVP &amp; General Counsel</td>\n",
              "      <td>2008</td>\n",
              "      <td>470041</td>\n",
              "      <td>373400</td>\n",
              "      <td>0</td>\n",
              "      <td>...</td>\n",
              "      <td>388565</td>\n",
              "      <td>1670829</td>\n",
              "      <td>T.</td>\n",
              "      <td>T.</td>\n",
              "      <td>NaN</td>\n",
              "      <td>-1</td>\n",
              "      <td>Financial Services</td>\n",
              "      <td>Banks - Regional</td>\n",
              "      <td>GC</td>\n",
              "      <td>GC</td>\n",
              "    </tr>\n",
              "    <tr>\n",
              "      <th>293500</th>\n",
              "      <td>293500</td>\n",
              "      <td>300111</td>\n",
              "      <td>36966</td>\n",
              "      <td>FHN</td>\n",
              "      <td>T. C. Adams</td>\n",
              "      <td>EVP &amp; Treasurer Former Interim CFO</td>\n",
              "      <td>2008</td>\n",
              "      <td>322676</td>\n",
              "      <td>67300</td>\n",
              "      <td>7451</td>\n",
              "      <td>...</td>\n",
              "      <td>19017</td>\n",
              "      <td>867870</td>\n",
              "      <td>C.</td>\n",
              "      <td>C.</td>\n",
              "      <td>NaN</td>\n",
              "      <td>-1</td>\n",
              "      <td>Financial Services</td>\n",
              "      <td>Banks - Regional</td>\n",
              "      <td>Other</td>\n",
              "      <td>Other</td>\n",
              "    </tr>\n",
              "    <tr>\n",
              "      <th>293501</th>\n",
              "      <td>293501</td>\n",
              "      <td>300113</td>\n",
              "      <td>36966</td>\n",
              "      <td>FHN</td>\n",
              "      <td>F. J. Gusmus</td>\n",
              "      <td>President–FTN Financial</td>\n",
              "      <td>2008</td>\n",
              "      <td>289846</td>\n",
              "      <td>0</td>\n",
              "      <td>0</td>\n",
              "      <td>...</td>\n",
              "      <td>17247</td>\n",
              "      <td>1524509</td>\n",
              "      <td>J.</td>\n",
              "      <td>J.</td>\n",
              "      <td>NaN</td>\n",
              "      <td>-1</td>\n",
              "      <td>Financial Services</td>\n",
              "      <td>Banks - Regional</td>\n",
              "      <td>CFO</td>\n",
              "      <td>CFO</td>\n",
              "    </tr>\n",
              "    <tr>\n",
              "      <th>293502</th>\n",
              "      <td>293502</td>\n",
              "      <td>300235</td>\n",
              "      <td>797468</td>\n",
              "      <td>OXY</td>\n",
              "      <td>R. Casey Olson</td>\n",
              "      <td>Executive Vice President</td>\n",
              "      <td>2008</td>\n",
              "      <td>480000</td>\n",
              "      <td>2797560</td>\n",
              "      <td>1343334</td>\n",
              "      <td>...</td>\n",
              "      <td>183057</td>\n",
              "      <td>5403951</td>\n",
              "      <td>Casey</td>\n",
              "      <td>Casey</td>\n",
              "      <td>male</td>\n",
              "      <td>-1</td>\n",
              "      <td>NaN</td>\n",
              "      <td>NaN</td>\n",
              "      <td>Other</td>\n",
              "      <td>Other</td>\n",
              "    </tr>\n",
              "    <tr>\n",
              "      <th>293503</th>\n",
              "      <td>293503</td>\n",
              "      <td>300236</td>\n",
              "      <td>797468</td>\n",
              "      <td>OXY</td>\n",
              "      <td>R. Casey Olson</td>\n",
              "      <td>EVP and President – Oil and Gas, Eastern Hemis...</td>\n",
              "      <td>2007</td>\n",
              "      <td>480000</td>\n",
              "      <td>3000899</td>\n",
              "      <td>2001732</td>\n",
              "      <td>...</td>\n",
              "      <td>138037</td>\n",
              "      <td>6270668</td>\n",
              "      <td>Casey</td>\n",
              "      <td>Casey</td>\n",
              "      <td>male</td>\n",
              "      <td>-1</td>\n",
              "      <td>NaN</td>\n",
              "      <td>NaN</td>\n",
              "      <td>Other</td>\n",
              "      <td>Other</td>\n",
              "    </tr>\n",
              "  </tbody>\n",
              "</table>\n",
              "<p>293504 rows × 21 columns</p>\n",
              "</div>"
            ],
            "text/plain": [
              "        Unnamed: 0  Unnamed: 0.1     CIK Ticker             Name  \\\n",
              "0                0             0  320193   AAPL    Jeff Williams   \n",
              "1                1             1  320193   AAPL         Tim Cook   \n",
              "2                2             2  320193   AAPL       Kate Adams   \n",
              "3                3             3  320193   AAPL     Luca Maestri   \n",
              "4                4             4  320193   AAPL  Deirdre O Brien   \n",
              "...            ...           ...     ...    ...              ...   \n",
              "293499      293499        300108   36966    FHN     C. T. Tuggle   \n",
              "293500      293500        300111   36966    FHN      T. C. Adams   \n",
              "293501      293501        300113   36966    FHN     F. J. Gusmus   \n",
              "293502      293502        300235  797468    OXY   R. Casey Olson   \n",
              "293503      293503        300236  797468    OXY   R. Casey Olson   \n",
              "\n",
              "                                                 Position  Year   Salary  \\\n",
              "0                                 Chief Operating Officer  2021  1000000   \n",
              "1                                 Chief Executive Officer  2021  3000000   \n",
              "2       Senior Vice President, General Counsel and Sec...  2021  1000000   \n",
              "3          Senior Vice President, Chief Financial Officer  2021  1000000   \n",
              "4                  Senior Vice President, Retail + People  2021  1000000   \n",
              "...                                                   ...   ...      ...   \n",
              "293499                              EVP & General Counsel  2008   470041   \n",
              "293500                 EVP & Treasurer Former Interim CFO  2008   322676   \n",
              "293501                            President–FTN Financial  2008   289846   \n",
              "293502                           Executive Vice President  2008   480000   \n",
              "293503  EVP and President – Oil and Gas, Eastern Hemis...  2007   480000   \n",
              "\n",
              "        Stock Awards  Option Awards  ...  Other Compensation     Total  \\\n",
              "0           21959620              0  ...               17437  26977057   \n",
              "1           82347835              0  ...             1386559  98734394   \n",
              "2           21959620              0  ...               14533  26974153   \n",
              "3           21959620              0  ...               18883  26978503   \n",
              "4           21959620              0  ...               61191  27020811   \n",
              "...              ...            ...  ...                 ...       ...   \n",
              "293499        373400              0  ...              388565   1670829   \n",
              "293500         67300           7451  ...               19017    867870   \n",
              "293501             0              0  ...               17247   1524509   \n",
              "293502       2797560        1343334  ...              183057   5403951   \n",
              "293503       3000899        2001732  ...              138037   6270668   \n",
              "\n",
              "        Last_Name First_Name assumed_gender      MarketCap  \\\n",
              "0        Williams       Jeff           male  2336261668864   \n",
              "1            Cook        Tim           male  2336261668864   \n",
              "2           Adams       Kate         female  2336261668864   \n",
              "3         Maestri       Luca           male  2336261668864   \n",
              "4               O    Deirdre         female  2336261668864   \n",
              "...           ...        ...            ...            ...   \n",
              "293499         T.         T.            NaN             -1   \n",
              "293500         C.         C.            NaN             -1   \n",
              "293501         J.         J.            NaN             -1   \n",
              "293502      Casey      Casey           male             -1   \n",
              "293503      Casey      Casey           male             -1   \n",
              "\n",
              "                    Sector              Industry category categorized_role  \n",
              "0               Technology  Consumer Electronics      COO              COO  \n",
              "1               Technology  Consumer Electronics      CEO              CEO  \n",
              "2               Technology  Consumer Electronics       GC               GC  \n",
              "3               Technology  Consumer Electronics      CFO              CFO  \n",
              "4               Technology  Consumer Electronics     CHRO             CHRO  \n",
              "...                    ...                   ...      ...              ...  \n",
              "293499  Financial Services      Banks - Regional       GC               GC  \n",
              "293500  Financial Services      Banks - Regional    Other            Other  \n",
              "293501  Financial Services      Banks - Regional      CFO              CFO  \n",
              "293502                 NaN                   NaN    Other            Other  \n",
              "293503                 NaN                   NaN    Other            Other  \n",
              "\n",
              "[293504 rows x 21 columns]"
            ]
          },
          "metadata": {},
          "output_type": "display_data"
        }
      ],
      "source": [
        "# Import data\n",
        "\n",
        "url = \"https://drive.google.com/uc?id=1R1YePQOlq9ZEF-oE-x1gc-vbOH5aQl9Q&export=download\"\n",
        "df = pd.read_csv(url)\n",
        "display(df)\n"
      ]
    },
    {
      "cell_type": "markdown",
      "metadata": {
        "id": "sq9g-aYHwktv"
      },
      "source": [
        "# Section 2: Feature engineering\n",
        "\n",
        "The data required a great deal of cleaning. We noted several issues, including non-sensical values; for example, market capitilization, which is the price of the stock times the shares outstanding was -1 in some rows(impossible) or zero. We filtered the dataframe to remove any irrelevant values.\n",
        "\n",
        "We also catergorized C-suite job titles and produced bins for salary ranges (which were extremely wide). We binarized male/females.  Lastly, we normalized data for market cap and total compensation. \n",
        "\n",
        "After cleaning, the dataframe has 18,081 rows and 24 features. There is a large skew towards men (85% of the rows) and thus we rebalance the data to be a 50/50 split.  After the rebalancing, the training and test dataframe has 2,662 rows each. \n",
        "\n",
        "\n"
      ]
    },
    {
      "cell_type": "code",
      "execution_count": 48,
      "metadata": {
        "colab": {
          "base_uri": "https://localhost:8080/"
        },
        "id": "5FVgP4jpIouE",
        "outputId": "61daf1d0-8479-43eb-e6a9-3b895aad47d7"
      },
      "outputs": [
        {
          "name": "stdout",
          "output_type": "stream",
          "text": [
            "Number of rows with nans =  25892\n",
            "This is the data frame head:    Unnamed: 0  Unnamed: 0.1     CIK Ticker             Name  \\\n",
            "0           0             0  320193   AAPL    Jeff Williams   \n",
            "1           1             1  320193   AAPL         Tim Cook   \n",
            "2           2             2  320193   AAPL       Kate Adams   \n",
            "3           3             3  320193   AAPL     Luca Maestri   \n",
            "4           4             4  320193   AAPL  Deirdre O Brien   \n",
            "\n",
            "                                            Position  Year   Salary  \\\n",
            "0                            Chief Operating Officer  2021  1000000   \n",
            "1                            Chief Executive Officer  2021  3000000   \n",
            "2  Senior Vice President, General Counsel and Sec...  2021  1000000   \n",
            "3     Senior Vice President, Chief Financial Officer  2021  1000000   \n",
            "4             Senior Vice President, Retail + People  2021  1000000   \n",
            "\n",
            "   Stock Awards  Option Awards  ...  assumed_gender      MarketCap  \\\n",
            "0      21959620              0  ...            male  2336261668864   \n",
            "1      82347835              0  ...            male  2336261668864   \n",
            "2      21959620              0  ...          female  2336261668864   \n",
            "3      21959620              0  ...            male  2336261668864   \n",
            "4      21959620              0  ...          female  2336261668864   \n",
            "\n",
            "       Sector              Industry category categorized_role  gender_boolean  \\\n",
            "0  Technology  Consumer Electronics      COO              COO               0   \n",
            "1  Technology  Consumer Electronics      CEO              CEO               0   \n",
            "2  Technology  Consumer Electronics       GC               GC               1   \n",
            "3  Technology  Consumer Electronics      CFO              CFO               0   \n",
            "4  Technology  Consumer Electronics     CHRO             CHRO               1   \n",
            "\n",
            "      BinnedCompensation Total_norm MarketCap_norm  \n",
            "0   (20000000, 30000000]   0.789527            1.0  \n",
            "1  (50000000, 100000000]   0.998394            1.0  \n",
            "2   (20000000, 30000000]   0.789510            1.0  \n",
            "3   (20000000, 30000000]   0.789536            1.0  \n",
            "4   (20000000, 30000000]   0.789788            1.0  \n",
            "\n",
            "[5 rows x 25 columns]\n"
          ]
        }
      ],
      "source": [
        "# Code block for cleaning and feature engineering\n",
        "\n",
        "print(\"Number of rows with nans = \", df[df.isna().any(axis=1)].Total.count())\n",
        "\n",
        "# Dictionary of C-level job titles\n",
        "c_level_titles = {'CEO': ['chief executive officer'], \n",
        "                  'COO': ['chief operating officer', 'operating', 'operations'], \n",
        "                  'CFO': ['chief financial officer', 'financial'], \n",
        "                  'CTO': ['chief technology officer', 'technology'], \n",
        "                  'CIO': ['chief information officer', 'chief innovation officer'], \n",
        "                  'CMO': ['chief marketing officer', 'head of marketing', 'marketing'],\n",
        "                  'CHRO': ['chief human resources officer', 'chief people officer', 'people'],\n",
        "                  'GC': ['general counsel', 'chief legal officer'], \n",
        "                  'CISO': ['chief information security officer', 'security'],\n",
        "                  'CSO': ['chief sales officer', 'chief revenue officer', 'sales'],\n",
        "                  'CDO': ['chief data officer', 'digital transformation officer', 'data', 'transformation']}\n",
        "\n",
        "# Categorize job titles into C-level titles\n",
        "for c_level_title, job_titles in c_level_titles.items():\n",
        "    for job_title in job_titles:\n",
        "        df.loc[df['Position'].str.lower().str.contains(job_title), 'category'] = c_level_title\n",
        "\n",
        "# Fill NaN values with 'Other'\n",
        "df['category'].fillna('Other', inplace=True)\n",
        "\n",
        "# Updating dataframe to only use male and female and filter unspecified\n",
        "df=df[(df.assumed_gender == 'male') | (df.assumed_gender == 'female')] \n",
        "\n",
        "# Updating dataframe with a binary male/female column\n",
        "df[\"gender_boolean\"] = 0  # zero is male \n",
        "df.loc[df.assumed_gender == 'female', \"gender_boolean\"] = 1\n",
        "\n",
        "# Filter any compensation below $200,000 as there are data points that don't reflect annual salaries \n",
        "# For example, CEO worked only a month.\n",
        "df = df[(df.Total >= 200000) & (df.Total <= 100000000)]\n",
        "\n",
        "#bins for \"Total\" compensation\n",
        "bins = [0, 250000,500000, 1000000, 2000000, 3000000, 4000000, 5000000, 6000000, 7000000, 8000000, 9000000, 10000000, 11000000, 12000000, 13000000, 14000000, 15000000,\n",
        "16000000, 17000000, 18000000, 19000000, 20000000, 30000000, 40000000, 50000000, 100000000]\n",
        "df['BinnedCompensation'] = pd.cut(df.Total, bins)\n",
        "\n",
        "# Given that some marketcap values are -1 and 0, filter for Market Cap above $100,000\n",
        "df = df[df.MarketCap > 100000]\n",
        "\n",
        "#normalize total compensation to be between 0 and 1\n",
        "Total = np.log(df.Total) \n",
        "Total_norm = (Total-np.min(Total))/(np.max(Total)-np.min(Total))\n",
        "df['Total_norm'] = Total_norm\n",
        "\n",
        "# normalize MarketCap to be between 0 and 1\n",
        "MarketCap = np.log(df.MarketCap)\n",
        "MarketCap_norm = (MarketCap - np.min(MarketCap))/(np.max(MarketCap)-np.min(MarketCap))\n",
        "df['MarketCap_norm'] = MarketCap_norm\n",
        "\n",
        "# Filter for 2021 data only\n",
        "df = df[df.Year == 2021]\n",
        "print('This is the data frame head:', df.head())\n",
        "\n"
      ]
    },
    {
      "cell_type": "markdown",
      "metadata": {
        "id": "mU9A0Wn5HdAO"
      },
      "source": [
        "## Male/Female split before rebalancing \n",
        "\n",
        "As noted below, the data set is highly skewed towards male executives, with about 85% men and 15% women. "
      ]
    },
    {
      "cell_type": "code",
      "execution_count": 49,
      "metadata": {
        "colab": {
          "base_uri": "https://localhost:8080/",
          "height": 428
        },
        "id": "KK1m4y7uG2tx",
        "outputId": "03eea1fd-a120-4709-fc71-8e3be630ddf0"
      },
      "outputs": [
        {
          "data": {
            "image/png": "[encoded data removed]",
            "text/plain": [
              "<Figure size 432x288 with 1 Axes>"
            ]
          },
          "metadata": {},
          "output_type": "display_data"
        }
      ],
      "source": [
        "# Pie chart of female/male split in dataset\n",
        "pie_chart_label_values = df['gender_boolean'].value_counts()\n",
        "plt.pie(pie_chart_label_values, labels=['Men', 'Women'], colors = ['b', 'r'],autopct='%.1f')\n",
        "plt.title(\"Male/Female Split in Dataset\", fontweight = \"bold\")\n",
        "plt.show()"
      ]
    },
    {
      "cell_type": "markdown",
      "metadata": {
        "id": "_EykQGqVfvR3"
      },
      "source": [
        "### Train/test split and rebalance data by gender\n",
        "\n",
        "To address the data imbalance, we rebalance the dataset. We further split the data into train and test sets\n"
      ]
    },
    {
      "cell_type": "code",
      "execution_count": 50,
      "metadata": {
        "colab": {
          "base_uri": "https://localhost:8080/"
        },
        "id": "oxGuXcAAvQYZ",
        "outputId": "d2d53d4f-5a56-444f-f99a-58ae762674fb"
      },
      "outputs": [
        {
          "name": "stdout",
          "output_type": "stream",
          "text": [
            "Complete dataframe: (18081, 25)\n",
            "Train dataframe: (2662, 25)\n",
            "Test dataframe: (2664, 25)\n"
          ]
        }
      ],
      "source": [
        "# Isolate genders to create 50/50 split\n",
        "df_male = df[df['gender_boolean'] == 0]\n",
        "df_female = df[df['gender_boolean'] == 1]\n",
        "\n",
        "# Shuffle each\n",
        "df_male = df_male.sample(frac=1)\n",
        "df_female = df_female.sample(frac=1)\n",
        "\n",
        "# Take the minimum number of the smallest gender to construct the sample size\n",
        "min_samples = min(len(df_male), len(df_female))\n",
        "\n",
        "# Create train and test dataframes with equal gender representation\n",
        "train_samples = min_samples // 2\n",
        "test_samples = min_samples - train_samples\n",
        "\n",
        "df_train = pd.concat([df_male[:train_samples], df_female[:train_samples]])\n",
        "df_test = pd.concat([df_male[train_samples:train_samples+test_samples], df_female[train_samples:train_samples+test_samples]])\n",
        "\n",
        "\n",
        "print(\"Complete dataframe:\",df.shape)\n",
        "print(\"Train dataframe:\", df_train.shape)\n",
        "print(\"Test dataframe:\", df_test.shape)\n",
        "\n"
      ]
    },
    {
      "cell_type": "markdown",
      "metadata": {
        "id": "e9qDwtoFjHVS"
      },
      "source": [
        "### Male/Female Split after Reblancing "
      ]
    },
    {
      "cell_type": "code",
      "execution_count": 51,
      "metadata": {
        "colab": {
          "base_uri": "https://localhost:8080/",
          "height": 428
        },
        "id": "EgkuDD_t0cf-",
        "outputId": "40942aaa-a981-498f-f035-82e9daba9167"
      },
      "outputs": [
        {
          "data": {
            "image/png": "[encoded data removed]",
            "text/plain": [
              "<Figure size 432x288 with 1 Axes>"
            ]
          },
          "metadata": {},
          "output_type": "display_data"
        }
      ],
      "source": [
        "# Pie chart of female/male split in train dataset after rebalancing. \n",
        "pie_chart_label_values = df_train['gender_boolean'].value_counts()\n",
        "plt.pie(pie_chart_label_values, labels=['Men', 'Women'], colors = ['b', 'r'],autopct='%.1f')\n",
        "plt.title(\"Male/Female Split in Training After Rebalancing\", fontweight = \"bold\")\n",
        "plt.show()\n",
        "\n"
      ]
    },
    {
      "cell_type": "markdown",
      "metadata": {
        "id": "72FdqE7Wzu4j"
      },
      "source": [
        "# Section 3: Exploratory Data Analysis\n",
        "\n",
        "\n",
        "Some findings from EDA:\n",
        " \n",
        "*   US executives of large publicly-traded companies have very high total compensation, and the deviations are extremely large.\n",
        "*   Very few women executives earning at the top compensation levels.\n",
        "*  Female CEOs out earn males on average but no female CEOS earning top compensation\n",
        "\n"
      ]
    },
    {
      "cell_type": "code",
      "execution_count": 52,
      "metadata": {
        "colab": {
          "base_uri": "https://localhost:8080/",
          "height": 899
        },
        "id": "tx-G7oy44fUZ",
        "outputId": "06925872-c74d-41c9-87c7-d508737c9147"
      },
      "outputs": [
        {
          "data": {
            "text/html": [
              "<div>\n",
              "<style scoped>\n",
              "    .dataframe tbody tr th:only-of-type {\n",
              "        vertical-align: middle;\n",
              "    }\n",
              "\n",
              "    .dataframe tbody tr th {\n",
              "        vertical-align: top;\n",
              "    }\n",
              "\n",
              "    .dataframe thead th {\n",
              "        text-align: right;\n",
              "    }\n",
              "</style>\n",
              "<table border=\"1\" class=\"dataframe\">\n",
              "  <thead>\n",
              "    <tr style=\"text-align: right;\">\n",
              "      <th></th>\n",
              "      <th>Unnamed: 0</th>\n",
              "      <th>Unnamed: 0.1</th>\n",
              "      <th>CIK</th>\n",
              "      <th>Year</th>\n",
              "      <th>Salary</th>\n",
              "      <th>Stock Awards</th>\n",
              "      <th>Option Awards</th>\n",
              "      <th>Non-Equity Incentive Compensation</th>\n",
              "      <th>Other Compensation</th>\n",
              "      <th>Total</th>\n",
              "      <th>MarketCap</th>\n",
              "      <th>gender_boolean</th>\n",
              "      <th>Total_norm</th>\n",
              "      <th>MarketCap_norm</th>\n",
              "    </tr>\n",
              "  </thead>\n",
              "  <tbody>\n",
              "    <tr>\n",
              "      <th>count</th>\n",
              "      <td>18081.000000</td>\n",
              "      <td>18081.000000</td>\n",
              "      <td>1.808100e+04</td>\n",
              "      <td>18081.0</td>\n",
              "      <td>1.808100e+04</td>\n",
              "      <td>1.808100e+04</td>\n",
              "      <td>1.808100e+04</td>\n",
              "      <td>1.808100e+04</td>\n",
              "      <td>1.808100e+04</td>\n",
              "      <td>1.808100e+04</td>\n",
              "      <td>1.808100e+04</td>\n",
              "      <td>18081.000000</td>\n",
              "      <td>18081.000000</td>\n",
              "      <td>18081.000000</td>\n",
              "    </tr>\n",
              "    <tr>\n",
              "      <th>mean</th>\n",
              "      <td>133784.438305</td>\n",
              "      <td>138625.268182</td>\n",
              "      <td>1.143340e+06</td>\n",
              "      <td>2021.0</td>\n",
              "      <td>5.195936e+05</td>\n",
              "      <td>1.941075e+06</td>\n",
              "      <td>6.308314e+05</td>\n",
              "      <td>5.789721e+05</td>\n",
              "      <td>2.402339e+05</td>\n",
              "      <td>4.171013e+06</td>\n",
              "      <td>1.413701e+10</td>\n",
              "      <td>0.147282</td>\n",
              "      <td>0.388628</td>\n",
              "      <td>0.554129</td>\n",
              "    </tr>\n",
              "    <tr>\n",
              "      <th>std</th>\n",
              "      <td>73973.664554</td>\n",
              "      <td>75148.116736</td>\n",
              "      <td>5.407898e+05</td>\n",
              "      <td>0.0</td>\n",
              "      <td>4.912657e+05</td>\n",
              "      <td>4.748813e+06</td>\n",
              "      <td>2.397346e+06</td>\n",
              "      <td>1.291114e+06</td>\n",
              "      <td>7.909838e+06</td>\n",
              "      <td>6.288534e+06</td>\n",
              "      <td>7.202412e+10</td>\n",
              "      <td>0.354396</td>\n",
              "      <td>0.176933</td>\n",
              "      <td>0.139690</td>\n",
              "    </tr>\n",
              "    <tr>\n",
              "      <th>min</th>\n",
              "      <td>0.000000</td>\n",
              "      <td>0.000000</td>\n",
              "      <td>1.750000e+03</td>\n",
              "      <td>2021.0</td>\n",
              "      <td>0.000000e+00</td>\n",
              "      <td>0.000000e+00</td>\n",
              "      <td>0.000000e+00</td>\n",
              "      <td>0.000000e+00</td>\n",
              "      <td>0.000000e+00</td>\n",
              "      <td>2.000000e+05</td>\n",
              "      <td>1.276140e+05</td>\n",
              "      <td>0.000000</td>\n",
              "      <td>0.000000</td>\n",
              "      <td>0.003465</td>\n",
              "    </tr>\n",
              "    <tr>\n",
              "      <th>25%</th>\n",
              "      <td>73482.000000</td>\n",
              "      <td>76524.000000</td>\n",
              "      <td>8.740150e+05</td>\n",
              "      <td>2021.0</td>\n",
              "      <td>3.250000e+05</td>\n",
              "      <td>0.000000e+00</td>\n",
              "      <td>0.000000e+00</td>\n",
              "      <td>0.000000e+00</td>\n",
              "      <td>7.380000e+03</td>\n",
              "      <td>1.027492e+06</td>\n",
              "      <td>2.809525e+08</td>\n",
              "      <td>0.000000</td>\n",
              "      <td>0.263458</td>\n",
              "      <td>0.462135</td>\n",
              "    </tr>\n",
              "    <tr>\n",
              "      <th>50%</th>\n",
              "      <td>134281.000000</td>\n",
              "      <td>139894.000000</td>\n",
              "      <td>1.180145e+06</td>\n",
              "      <td>2021.0</td>\n",
              "      <td>4.414500e+05</td>\n",
              "      <td>5.719600e+05</td>\n",
              "      <td>0.000000e+00</td>\n",
              "      <td>2.078850e+05</td>\n",
              "      <td>2.030000e+04</td>\n",
              "      <td>2.210464e+06</td>\n",
              "      <td>1.505204e+09</td>\n",
              "      <td>0.000000</td>\n",
              "      <td>0.386783</td>\n",
              "      <td>0.562160</td>\n",
              "    </tr>\n",
              "    <tr>\n",
              "      <th>75%</th>\n",
              "      <td>192376.000000</td>\n",
              "      <td>199853.000000</td>\n",
              "      <td>1.596967e+06</td>\n",
              "      <td>2021.0</td>\n",
              "      <td>6.150000e+05</td>\n",
              "      <td>1.901669e+06</td>\n",
              "      <td>3.064760e+05</td>\n",
              "      <td>6.457500e+05</td>\n",
              "      <td>6.594800e+04</td>\n",
              "      <td>4.711733e+06</td>\n",
              "      <td>6.110517e+09</td>\n",
              "      <td>0.000000</td>\n",
              "      <td>0.508624</td>\n",
              "      <td>0.645652</td>\n",
              "    </tr>\n",
              "    <tr>\n",
              "      <th>max</th>\n",
              "      <td>291987.000000</td>\n",
              "      <td>277717.000000</td>\n",
              "      <td>1.937653e+06</td>\n",
              "      <td>2021.0</td>\n",
              "      <td>3.149358e+07</td>\n",
              "      <td>1.193935e+08</td>\n",
              "      <td>8.473796e+07</td>\n",
              "      <td>5.242752e+07</td>\n",
              "      <td>1.046111e+09</td>\n",
              "      <td>9.873439e+07</td>\n",
              "      <td>2.336262e+12</td>\n",
              "      <td>1.000000</td>\n",
              "      <td>0.998394</td>\n",
              "      <td>1.000000</td>\n",
              "    </tr>\n",
              "  </tbody>\n",
              "</table>\n",
              "</div>"
            ],
            "text/plain": [
              "          Unnamed: 0   Unnamed: 0.1           CIK     Year        Salary  \\\n",
              "count   18081.000000   18081.000000  1.808100e+04  18081.0  1.808100e+04   \n",
              "mean   133784.438305  138625.268182  1.143340e+06   2021.0  5.195936e+05   \n",
              "std     73973.664554   75148.116736  5.407898e+05      0.0  4.912657e+05   \n",
              "min         0.000000       0.000000  1.750000e+03   2021.0  0.000000e+00   \n",
              "25%     73482.000000   76524.000000  8.740150e+05   2021.0  3.250000e+05   \n",
              "50%    134281.000000  139894.000000  1.180145e+06   2021.0  4.414500e+05   \n",
              "75%    192376.000000  199853.000000  1.596967e+06   2021.0  6.150000e+05   \n",
              "max    291987.000000  277717.000000  1.937653e+06   2021.0  3.149358e+07   \n",
              "\n",
              "       Stock Awards  Option Awards  Non-Equity Incentive Compensation  \\\n",
              "count  1.808100e+04   1.808100e+04                       1.808100e+04   \n",
              "mean   1.941075e+06   6.308314e+05                       5.789721e+05   \n",
              "std    4.748813e+06   2.397346e+06                       1.291114e+06   \n",
              "min    0.000000e+00   0.000000e+00                       0.000000e+00   \n",
              "25%    0.000000e+00   0.000000e+00                       0.000000e+00   \n",
              "50%    5.719600e+05   0.000000e+00                       2.078850e+05   \n",
              "75%    1.901669e+06   3.064760e+05                       6.457500e+05   \n",
              "max    1.193935e+08   8.473796e+07                       5.242752e+07   \n",
              "\n",
              "       Other Compensation         Total     MarketCap  gender_boolean  \\\n",
              "count        1.808100e+04  1.808100e+04  1.808100e+04    18081.000000   \n",
              "mean         2.402339e+05  4.171013e+06  1.413701e+10        0.147282   \n",
              "std          7.909838e+06  6.288534e+06  7.202412e+10        0.354396   \n",
              "min          0.000000e+00  2.000000e+05  1.276140e+05        0.000000   \n",
              "25%          7.380000e+03  1.027492e+06  2.809525e+08        0.000000   \n",
              "50%          2.030000e+04  2.210464e+06  1.505204e+09        0.000000   \n",
              "75%          6.594800e+04  4.711733e+06  6.110517e+09        0.000000   \n",
              "max          1.046111e+09  9.873439e+07  2.336262e+12        1.000000   \n",
              "\n",
              "         Total_norm  MarketCap_norm  \n",
              "count  18081.000000    18081.000000  \n",
              "mean       0.388628        0.554129  \n",
              "std        0.176933        0.139690  \n",
              "min        0.000000        0.003465  \n",
              "25%        0.263458        0.462135  \n",
              "50%        0.386783        0.562160  \n",
              "75%        0.508624        0.645652  \n",
              "max        0.998394        1.000000  "
            ]
          },
          "metadata": {},
          "output_type": "display_data"
        },
        {
          "name": "stdout",
          "output_type": "stream",
          "text": [
            "\n",
            " Datatypes of the features\n",
            "Unnamed: 0                              int64\n",
            "Unnamed: 0.1                            int64\n",
            "CIK                                     int64\n",
            "Ticker                                 object\n",
            "Name                                   object\n",
            "Position                               object\n",
            "Year                                    int64\n",
            "Salary                                  int64\n",
            "Stock Awards                            int64\n",
            "Option Awards                           int64\n",
            "Non-Equity Incentive Compensation       int64\n",
            "Other Compensation                      int64\n",
            "Total                                   int64\n",
            "Last_Name                              object\n",
            "First_Name                             object\n",
            "assumed_gender                         object\n",
            "MarketCap                               int64\n",
            "Sector                                 object\n",
            "Industry                               object\n",
            "category                               object\n",
            "categorized_role                       object\n",
            "gender_boolean                          int64\n",
            "BinnedCompensation                   category\n",
            "Total_norm                            float64\n",
            "MarketCap_norm                        float64\n",
            "dtype: object\n"
          ]
        }
      ],
      "source": [
        "# Analyzing the numeric data after cleaning.\n",
        "display(df.describe())\n",
        "\n",
        "# Checking the data types\n",
        "print(\"\\n Datatypes of the features\")\n",
        "print(df.dtypes)"
      ]
    },
    {
      "cell_type": "markdown",
      "metadata": {
        "id": "gjBClOoDkzFE"
      },
      "source": [
        "## Analyzing Means and Median\n",
        "We analyzed the means, medians, and standard deviations more closely.   We look at the data in different ways, splitting by positions and generally total compensation for men is slighy higher for women. \n",
        "\n",
        "Overall, the median total compensation for females is 1.94 million and for males, 2.26 million and the median salaries are 2.44 million and 2.94 million, respectively.  Interestingly, the mean female CEO total compensation is 5.2 million, greater than 5.0 million male compensation; however the standard deviation are quite large at around 6 and 7 million, respectively. In summary, US executives of large companies have very high total compensation, and the deviations are extremely large. \n"
      ]
    },
    {
      "cell_type": "code",
      "execution_count": 53,
      "metadata": {
        "colab": {
          "base_uri": "https://localhost:8080/"
        },
        "id": "65vE52Ldanmv",
        "outputId": "21b202fc-0432-419c-a125-598c933647a3"
      },
      "outputs": [
        {
          "name": "stdout",
          "output_type": "stream",
          "text": [
            "\n",
            "\n",
            "\n",
            "Female: median total compensation: 1942357.0\n",
            "Male: median total compensation 2261540.5\n",
            "\n",
            "\n",
            "Female: mean total compensation: 3562709.2\n",
            "Male: mean total compensation: 4276079.4\n",
            "Median female CEO 4365748.0\n",
            "Median male CEO 4582324.0\n",
            "Median female CEO 4365748\n",
            "Median male CEO 4582324\n",
            "Average female CEO 6420030\n",
            "Average male CEO 7048448\n",
            "Std deviation female CEO 6876065\n",
            "Std deviation male CEO 8715016\n"
          ]
        }
      ],
      "source": [
        "# Analysing Medians and Means\n",
        "\n",
        "print(\"\\n\\n\")\n",
        "print(\"Female: median total compensation:\", (df[df.assumed_gender == 'female'].Total.median()))\n",
        "print(\"Male: median total compensation\", (df[df.assumed_gender == 'male'].Total.median()))\n",
        "print(\"\\n\")\n",
        "print(\"Female: mean total compensation:\", round(df[df.assumed_gender == 'female'].Total.mean(),1))\n",
        "print(\"Male: mean total compensation:\", round(df[df.assumed_gender == 'male'].Total.mean(),1))\n",
        "\n",
        "print(\"Median female CEO\", (df[(df.assumed_gender == 'female') & (df.category == 'CEO')].Total.median()))\n",
        "print(\"Median male CEO\", (df[(df.assumed_gender == 'male') & (df.category == 'CEO')].Total.median()))\n",
        "\n",
        "# REMOVING THE BELOW 100K SALARIES\n",
        "\n",
        "print(\"Median female CEO %d\" % (df[(df.assumed_gender == 'female') & (df.category == 'CEO') & (df.Total > 100000)].Total.median()))\n",
        "print(\"Median male CEO %d\" % (df[(df.assumed_gender == 'male') & (df.category == 'CEO') & (df.Total > 100000)].Total.median()))\n",
        "\n",
        "print(\"Average female CEO %d\" % (df[(df.assumed_gender == 'female') & (df.category == 'CEO') & (df.Total > 100000)].Total.mean()))\n",
        "print(\"Average male CEO %d\" % (df[(df.assumed_gender == 'male') & (df.category == 'CEO') & (df.Total > 100000)].Total.mean()))\n",
        "\n",
        "#  Standard deviations\n",
        "print(\"Std deviation female CEO %d\" % (df[(df.assumed_gender == 'female') & (df.category == 'CEO') & (df.Total > 100000)].Total.std()))\n",
        "print(\"Std deviation male CEO %d\" % (df[(df.assumed_gender == 'male') & (df.category == 'CEO') & (df.Total > 100000)].Total.std()))\n",
        "\n"
      ]
    },
    {
      "cell_type": "markdown",
      "metadata": {
        "id": "6bE5LJNVlVQB"
      },
      "source": [
        "# Histograms to analyze data\n",
        "\n",
        "There is a large spread in compensation, ranging from around 250,000 to 100 million. We noted that most of the compensation is clustered around the lower end of compensation and we analyze by select positions, with CEOs male earning the most and with the largest range in compensation. "
      ]
    },
    {
      "cell_type": "code",
      "execution_count": 54,
      "metadata": {
        "colab": {
          "base_uri": "https://localhost:8080/",
          "height": 800
        },
        "id": "K5Pl2uIqPsrM",
        "outputId": "f50aaa82-b316-4f63-95dc-72babc982d77"
      },
      "outputs": [
        {
          "data": {
            "image/png": "[encoded data removed]",
            "text/plain": [
              "<Figure size 864x576 with 1 Axes>"
            ]
          },
          "metadata": {},
          "output_type": "display_data"
        }
      ],
      "source": [
        "# Plot the histogram of the numbers within the buckets (using the top value of the range)\n",
        "\n",
        "ax = df.BinnedCompensation.value_counts(sort=False).plot.bar(rot=0, color=\"b\", figsize=(12,8))\n",
        "ax.set_title (\"Executive Compensation\", fontweight = \"bold\", fontsize = 15)\n",
        "ax.set_xticklabels(bins[1:], rotation=90)\n",
        "ax.set_xlabel(\"Compensation in $\")\n",
        "ax.set_ylabel(\"Number Of Individuals\")\n",
        "ax.yaxis.set_major_formatter(mpl.ticker.StrMethodFormatter('{x:,.0f}'))\n",
        "#ax.xaxis.set_major_formatter(mpl.ticker.StrMethodFormatter('{x:,.4f}'))\n",
        "plt.show()"
      ]
    },
    {
      "cell_type": "code",
      "execution_count": 55,
      "metadata": {
        "colab": {
          "base_uri": "https://localhost:8080/",
          "height": 800
        },
        "id": "TCI7YLKaRWvo",
        "outputId": "b526059f-f781-459b-8ee6-a2fa0eae7286"
      },
      "outputs": [
        {
          "data": {
            "image/png": "[encoded data removed]",
            "text/plain": [
              "<Figure size 864x576 with 1 Axes>"
            ]
          },
          "metadata": {},
          "output_type": "display_data"
        }
      ],
      "source": [
        "# Plot the histogram of the numbers within the income buckets (binned_compensation) based on gender \n",
        "\n",
        "N = 25\n",
        "# Position of bars on x-axis\n",
        "ind = np.arange(N)\n",
        "\n",
        "# Figure size\n",
        "plt.figure(figsize=(5,5))\n",
        "\n",
        "# Width of a bar \n",
        "width = 0.3 \n",
        "\n",
        "# Plots\n",
        "ax = df[df.assumed_gender == 'male'].BinnedCompensation.value_counts(sort=False).plot.bar(rot=0, width = width, align = \"edge\", color=\"b\",figsize=(12,8))\n",
        "ax1 = df[df.assumed_gender == 'female'].BinnedCompensation.value_counts(sort=False).plot.bar(rot=0,width = width, align = \"center\",color=\"r\",figsize=(12,8))\n",
        "\n",
        "# Formating \n",
        "\n",
        "ax.set_xticklabels(bins[1:], rotation=90)\n",
        "ax.set_title (\"Executive Compensation by Gender\", fontweight = \"bold\", fontsize = 15)\n",
        "ax.set_xlabel(\"Compensation in $\")\n",
        "ax.set_ylabel(\"Number of Individuals\")\n",
        "men = mpatches.Patch(color='b', label='Male executives')\n",
        "women = mpatches.Patch(color='r', label='Female executives')\n",
        "plt.legend(handles=[men, women])\n",
        "plt.savefig(\"comp_by_gender.png\")\n",
        "plt.show()\n"
      ]
    },
    {
      "cell_type": "code",
      "execution_count": 56,
      "metadata": {
        "colab": {
          "base_uri": "https://localhost:8080/",
          "height": 1000
        },
        "id": "pZJQV57pOVFs",
        "outputId": "a5df01e7-26e8-41fb-d712-af80b877087c"
      },
      "outputs": [
        {
          "data": {
            "text/plain": [
              "Text(0.5, 1.0, 'Male CTOs')"
            ]
          },
          "execution_count": 56,
          "metadata": {},
          "output_type": "execute_result"
        },
        {
          "data": {
            "image/png": "[encoded data removed]",
            "text/plain": [
              "<Figure size 1080x1080 with 6 Axes>"
            ]
          },
          "metadata": {},
          "output_type": "display_data"
        }
      ],
      "source": [
        "# Histograms by gender, executives \n",
        "fig, axs = plt.subplots(3, 2, figsize = (15,15))\n",
        "fig.tight_layout()\n",
        "\n",
        "axs[0, 0].hist(df[(df.assumed_gender == 'female')].Total, bins = bins, color = 'r')\n",
        "axs[0, 0].set_title('Female Executives', fontweight = 'bold')\n",
        "\n",
        "axs[0, 1].hist(df[(df.assumed_gender == 'male')].Total, bins = bins)\n",
        "axs[0, 1].set_title('Male Executives', fontweight = 'bold')\n",
        "\n",
        "axs[1, 0].hist(df[(df.assumed_gender == 'female') & (df.category == 'CEO')].Total, bins = bins, color = 'r')\n",
        "axs[1, 0].set_title('Female CEOs', fontweight = 'bold')\n",
        "\n",
        "axs[1, 1].hist(df[(df.assumed_gender == 'male') & (df.category == 'CEO')].Total, bins = bins)\n",
        "axs[1, 1].set_title('Male CEOs', fontweight = 'bold')\n",
        "\n",
        "axs[2, 0].hist(df[(df.assumed_gender == 'female') & (df.category == 'CTO')].Total, bins = bins, color = 'r')\n",
        "axs[2, 0].set_title('Female CTOs', fontweight = 'bold')\n",
        "\n",
        "axs[2, 1].hist(df[(df.assumed_gender == 'male') & (df.category == 'CTO')].Total, bins = bins)\n",
        "axs[2, 1].set_title('Male CTOs', fontweight = 'bold')\n",
        "\n"
      ]
    },
    {
      "cell_type": "markdown",
      "metadata": {
        "id": "eKR_IAamx2BC"
      },
      "source": [
        "### Pairwise correlations\n",
        "\n",
        "We run pairwise correlations but find this less useful as total compensation is a sum of salary, stock awards, other compensation. Notably, market cap (a proxy for firm size) has a 0.28 correlation with total compensation. \n",
        "\n",
        "Other interpretations:\n",
        "\n",
        "*   We ran pairwise correlation coefficients on all the features, but not did find anything significant.\n",
        "\n",
        "*  The gender_boolen feature does not seem to be correlated with other features (slightly negative but near zero).\n",
        "\n",
        "* Market cap (referring to the size of the publicly-traded company) has a slightly positive correlation (0.26) to total compensation, suggesting that larger companies may have larger executive compensation packages\n",
        "\n"
      ]
    },
    {
      "cell_type": "code",
      "execution_count": 57,
      "metadata": {
        "id": "9B7_tUDEXROF"
      },
      "outputs": [],
      "source": [
        "# Pairwise correlations.\n",
        "# Note to grader, this block took a while to run and didn't add much to our analysis so it's been commented out. \n",
        "#sns.pairplot(df_train) \n",
        "#df_train.corr()"
      ]
    },
    {
      "cell_type": "markdown",
      "metadata": {
        "id": "_XsgIXpeeC6l"
      },
      "source": [
        "# Section 4: Model building and predictions.\n",
        "\n",
        "We build a simple model to start, using 1 feature, gender and one layer (model 1).  We then add on other features and multi layers (model2, model3 and model4). In Model5, we use a one-hot encoding to transform the catergorical variable, sector and run a multi-layer 12 feature model. "
      ]
    },
    {
      "cell_type": "markdown",
      "metadata": {
        "id": "rDdEa8WVTq7l"
      },
      "source": [
        "## Functions used in model building"
      ]
    },
    {
      "cell_type": "code",
      "execution_count": 58,
      "metadata": {
        "id": "5nyJmo43Dxks"
      },
      "outputs": [],
      "source": [
        "# This code block contains all the functions used to build the models. \n",
        "\n",
        "#Function creates a model with hyperparameters and 1 layer\n",
        "\n",
        "def build_model(num_features, learning_rate):\n",
        "  \"\"\"Build a TF linear regression model using Keras.\n",
        "\n",
        "  Args:\n",
        "    num_features: The number of input features.\n",
        "    learning_rate: The desired learning rate for SGD.\n",
        "\n",
        "  Returns:\n",
        "    model: A tf.keras model (graph).\n",
        "  \"\"\"\n",
        "  tf.keras.backend.clear_session()\n",
        "  tf.random.set_seed(0)\n",
        "\n",
        "  # Build a model using keras.Sequential. \n",
        "  model = tf.keras.Sequential()\n",
        "  model.add(tf.keras.layers.Dense(\n",
        "      units=1,                     # output dim\n",
        "      input_shape=[num_features],  # input dim\n",
        "      use_bias=True,               # use a bias (intercept) param\n",
        "      kernel_initializer=tf.ones_initializer,  # initialize params to 1\n",
        "      bias_initializer=tf.ones_initializer,    # initialize bias to 1\n",
        "  ))\n",
        "\n",
        "  optimizer = tf.keras.optimizers.Adam(learning_rate=learning_rate)\n",
        "\n",
        "  # Finally, we compile the model. This finalizes the graph for training.\n",
        "  # We specify the MSE loss.\n",
        "  model.compile(loss='mse', optimizer=optimizer)\n",
        "  return model\n",
        "\n",
        "\n",
        " #Function creates a model with multi hyperparameters\n",
        "\n",
        "def build_model_multi(num_features, learning_rate, hidden_layer_sizes=[], activation = \"relu\"):\n",
        "  \"\"\"Build a TF Neural Network Model using Keras with hidden layers\n",
        "\n",
        "  Args:\n",
        "    num_features: The number of input features.\n",
        "    learning_rate: The desired learning rate for SGD.\n",
        "\n",
        "  Returns:\n",
        "    model: A tf.keras model (graph).\n",
        "  \"\"\"\n",
        "  tf.keras.backend.clear_session()\n",
        "  tf.random.set_seed(0)\n",
        "\n",
        "  # Build a model using keras.Sequential. \n",
        "  model = tf.keras.Sequential()\n",
        "  model.add(tf.keras.layers.Dense(\n",
        "      units=1,                     # output dim\n",
        "      input_shape=[num_features],  # input dim\n",
        "      use_bias=True,               # use a bias (intercept) param\n",
        "      kernel_initializer=tf.ones_initializer,  # initialize params to 1\n",
        "      bias_initializer=tf.ones_initializer,    # initialize bias to 1\n",
        "  ))\n",
        "\n",
        "  #hidden layer\n",
        "  for size in hidden_layer_sizes:\n",
        "    model.add(keras.layers.Dense(size, activation = activation))\n",
        "  \n",
        "\n",
        "  optimizer = tf.keras.optimizers.Adam(learning_rate=learning_rate)\n",
        "\n",
        "  # Finally, we compile the model. This finalizes the graph for training.\n",
        "  # We specify the MSE loss.\n",
        "  model.compile(loss='mse', optimizer=optimizer)\n",
        "  return model\n",
        "\n",
        "\n",
        "def show_history(history, title):\n",
        "  \"\"\"Plot the loss at each epoch and show final numbers. Train simple model\"\"\"\n",
        "  plt.plot(history.history['loss'], color='black', label='train')\n",
        "  plt.plot(history.history['val_loss'], color='red', label='dev')\n",
        "  plt.xlabel('epoch')\n",
        "  plt.ylabel('loss')\n",
        "  plt.title(title, fontweight = 'bold', fontsize = 14)\n",
        "  plt.legend()\n",
        "  plt.show()\n",
        "\n",
        "\n",
        "def unnormalize_total(x):\n",
        "  \"\"\" This function takes the normalized result from predict and converts it\n",
        "  back to the dollar level. For example market_cap_norm had a log function applied\n",
        "  and converted to values between 0 and 1 and this returns a dollar amount.\"\"\"\n",
        "\n",
        "  Total = np.log(df.Total)\n",
        "  result = (x * (np.max(Total)-np.min(Total)) + np.min(Total))\n",
        "  return np.exp(result)\n",
        "\n",
        "def unnormalize_total(x):\n",
        "  \"\"\" This function takes the normalized Total compensatation from predict and converts it\n",
        "    back to the dollar level. For example, total compensation had a log function applied\n",
        "    and converted to values between 0 and 1 and this returns a dollar amount.\"\"\"\n",
        "\n",
        "  Total = np.log(df.Total)\n",
        "  result = (x * (np.max(Total)-np.min(Total)) + np.min(Total))\n",
        "  return np.exp(result)\n",
        "\n",
        "\n",
        "def model_return_prediction(gender_b, MarketCap_n, model_name):\n",
        "    \"\"\"This function unnormalizes model predictions \"\"\"\n",
        "    return unnormalize_total(model_name.predict([[gender_b, MarketCap_n]])[0][0])\n"
      ]
    },
    {
      "cell_type": "markdown",
      "metadata": {
        "id": "S_ek174sGbek"
      },
      "source": [
        "## Model 1: One feature, gender\n",
        "We train a simple model with one feature, gender. We experiment with different learning rates and optimizer and find that learning rate = 0.01 and optimizer Adam has the lowest loss and validation loss and best convergence. Our model predicts that males have higher compensation than females (1.6 million  vs 1.4 million, respectively). "
      ]
    },
    {
      "cell_type": "code",
      "execution_count": 59,
      "metadata": {
        "colab": {
          "base_uri": "https://localhost:8080/",
          "height": 737
        },
        "id": "KIpaGl5xVI-o",
        "outputId": "bb87f201-9041-4fe4-f659-a56c1297fad0"
      },
      "outputs": [
        {
          "data": {
            "text/html": [
              "<div>\n",
              "<style scoped>\n",
              "    .dataframe tbody tr th:only-of-type {\n",
              "        vertical-align: middle;\n",
              "    }\n",
              "\n",
              "    .dataframe tbody tr th {\n",
              "        vertical-align: top;\n",
              "    }\n",
              "\n",
              "    .dataframe thead th {\n",
              "        text-align: right;\n",
              "    }\n",
              "</style>\n",
              "<table border=\"1\" class=\"dataframe\">\n",
              "  <thead>\n",
              "    <tr style=\"text-align: right;\">\n",
              "      <th></th>\n",
              "      <th>loss</th>\n",
              "      <th>val_loss</th>\n",
              "    </tr>\n",
              "  </thead>\n",
              "  <tbody>\n",
              "    <tr>\n",
              "      <th>0</th>\n",
              "      <td>0.569027</td>\n",
              "      <td>0.228806</td>\n",
              "    </tr>\n",
              "    <tr>\n",
              "      <th>1</th>\n",
              "      <td>0.059297</td>\n",
              "      <td>0.040052</td>\n",
              "    </tr>\n",
              "    <tr>\n",
              "      <th>2</th>\n",
              "      <td>0.036755</td>\n",
              "      <td>0.033077</td>\n",
              "    </tr>\n",
              "    <tr>\n",
              "      <th>3</th>\n",
              "      <td>0.032232</td>\n",
              "      <td>0.031473</td>\n",
              "    </tr>\n",
              "    <tr>\n",
              "      <th>4</th>\n",
              "      <td>0.030545</td>\n",
              "      <td>0.030720</td>\n",
              "    </tr>\n",
              "    <tr>\n",
              "      <th>5</th>\n",
              "      <td>0.030075</td>\n",
              "      <td>0.030547</td>\n",
              "    </tr>\n",
              "  </tbody>\n",
              "</table>\n",
              "</div>"
            ],
            "text/plain": [
              "       loss  val_loss\n",
              "0  0.569027  0.228806\n",
              "1  0.059297  0.040052\n",
              "2  0.036755  0.033077\n",
              "3  0.032232  0.031473\n",
              "4  0.030545  0.030720\n",
              "5  0.030075  0.030547"
            ]
          },
          "metadata": {},
          "output_type": "display_data"
        },
        {
          "name": "stdout",
          "output_type": "stream",
          "text": [
            "Weights: [[-0.01640816]]\n",
            "Biases: [0.38412902]\n"
          ]
        },
        {
          "data": {
            "image/png": "[encoded data removed]",
            "text/plain": [
              "<Figure size 432x288 with 1 Axes>"
            ]
          },
          "metadata": {},
          "output_type": "display_data"
        }
      ],
      "source": [
        "#MODEL 1: One feature, gender and one layer. \n",
        "model1 = build_model(num_features=1, learning_rate=0.01)\n",
        "\n",
        "X = np.asarray(df_train.gender_boolean)\n",
        "X_test = np.asarray(df_test.gender_boolean)\n",
        "Y = np.asarray(df_train.Total_norm)\n",
        "Y_test = np.asarray(df_test.Total_norm)\n",
        "\n",
        "#Train the model\n",
        "history1 = model1.fit(\n",
        "  x = X,\n",
        "  y = Y,\n",
        "  validation_split=0.1,  # use 10% of the examples as a validation set\n",
        "  epochs=6,\n",
        "  batch_size=32,\n",
        "  verbose=0)\n",
        "\n",
        "# Convert the return value into a DataFrame so we can see the loss after each\n",
        "# epoch. The history includes training data loss ('loss') and validation data\n",
        "# loss ('val_loss').\n",
        "\n",
        "display(pd.DataFrame(history1.history))\n",
        "\n",
        "# Use get_weights() which returns lists of weights and biases for the layer.\n",
        "weights, biases = model1.layers[0].get_weights()\n",
        "print('Weights:', weights)\n",
        "print('Biases:', biases)\n",
        "\n",
        "# Plotting the loss function\n",
        "show_history(history1, \"One feature, one layer model\")\n"
      ]
    },
    {
      "cell_type": "code",
      "execution_count": 60,
      "metadata": {
        "colab": {
          "base_uri": "https://localhost:8080/"
        },
        "id": "iUT35tDDGFss",
        "outputId": "9143e703-be22-447b-ab81-e625f1aff62b"
      },
      "outputs": [
        {
          "name": "stdout",
          "output_type": "stream",
          "text": [
            "84/84 [==============================] - 0s 812us/step\n",
            "Average RMSE: 0.17587296796733887\n"
          ]
        }
      ],
      "source": [
        "# Calculating RMSE for model 1\n",
        "Y_pred = model1.predict(X_test)\n",
        "\n",
        "#print(\"Y_pred shape:\", Y_pred.shape)\n",
        "# Squeeze Y_pred to remove singleton dimensions\n",
        "Y_pred = Y_pred[:,0]\n",
        "#print(\"Y_pred shape:\", Y_pred.shape)\n",
        "\n",
        "# Calculate squared differences for each predicted value\n",
        "squared_diff = (Y_pred - Y_test) ** 2\n",
        "\n",
        "# Calculate mean squared error (MSE) for each predicted value\n",
        "mse = np.mean(squared_diff)\n",
        "\n",
        "# Calculate root mean squared error (RMSE) for each predicted value\n",
        "rmse = np.sqrt(mse)\n",
        "\n",
        "# Calculate average RMSE across all predicted values\n",
        "average_rmse1 = np.mean(rmse)\n",
        "\n",
        "print(\"Average RMSE:\", average_rmse1)"
      ]
    },
    {
      "cell_type": "markdown",
      "metadata": {
        "id": "nEv-Ps2y411i"
      },
      "source": [
        "## Tuning Hyperparameters\n",
        "\n",
        "We experiment with different optimizers and learning rates.  We find that Adam optimizer plus learning rate of 0.01 has the best convergence of the loss and validation loss.\n"
      ]
    },
    {
      "cell_type": "markdown",
      "metadata": {
        "id": "NU-f8E67qYk-"
      },
      "source": [
        "Model | Optimizer | Learning rate | Loss | Val Loss\n",
        "-|-|-|-|-|\n",
        "Model 1: Gender|SGD|0.01|0.046|0.049|\n",
        "Model 1: Gender|SGD|0.001|0.700|1.344|\n",
        "Model 1: Gender|SGD|0.0001|1.476|2.801|\n",
        "Model 1: Gender|Adam|0.01|0.0359|0.0362|\n",
        "Model 1: Gender|Adam|0.001|1.038|1.934|"
      ]
    },
    {
      "cell_type": "markdown",
      "metadata": {
        "id": "xNZMZflO8UlF"
      },
      "source": [
        "## Model 1 predictions\n",
        "\n",
        "Recall that 0 = male, and 1 = female. Results are normalized, and we create   function unnormalize_total converts the numbers back to dollar values. The model predicts that a male executive salary is 2.12279 million dollarsand female salary is 2.0608 million dollars"
      ]
    },
    {
      "cell_type": "code",
      "execution_count": 61,
      "metadata": {
        "colab": {
          "base_uri": "https://localhost:8080/"
        },
        "id": "7dYyflTx8l8a",
        "outputId": "60cc954d-2bd1-481d-cc1b-340a835e5250"
      },
      "outputs": [
        {
          "name": "stdout",
          "output_type": "stream",
          "text": [
            "1/1 [==============================] - 0s 79ms/step\n",
            "1/1 [==============================] - 0s 42ms/step\n",
            "[0.38412902]\n",
            "Prediction of male salary:  $ 2.166 million\n",
            "Prediction of female salary:  $ 1.9564 million\n"
          ]
        }
      ],
      "source": [
        "# male = 0, female = 1\n",
        "predict_1_m = model1.predict([[0]])\n",
        "predict_1_f = model1.predict([[1]])\n",
        "print(predict_1_m[0])\n",
        "# function to convert normalized predictions back to dollars\n",
        "\n",
        "\n",
        "# Printing the results, and converting to millions\n",
        "\n",
        "print(\"Prediction of male salary: \", \"$\",round(unnormalize_total(predict_1_m[0][0])/1000000,4), \"million\")\n",
        "print(\"Prediction of female salary: \", \"$\", round(unnormalize_total(predict_1_f[0][0])/1000000,4), \"million\")"
      ]
    },
    {
      "cell_type": "markdown",
      "metadata": {
        "id": "n-Y5Y_2T7AFz"
      },
      "source": [
        "## Additional analysis as a sanity check: Simple OLS regression\n",
        "We run a simple OLS regression to get a better sense of the relationship between gender and compensation. We find a slight downward sloping regression curve, indicating slighly lower compensation for females vis-a-vis males, confirming our earlier exploratory analysis. The correlation coefficient between gender and normalized total compensation is slightly negative at -0.08.  \n"
      ]
    },
    {
      "cell_type": "code",
      "execution_count": 62,
      "metadata": {
        "colab": {
          "base_uri": "https://localhost:8080/",
          "height": 470
        },
        "id": "PNDdzH-LmyF1",
        "outputId": "f9112486-4c63-4fc3-eef2-1767dd6b74cc"
      },
      "outputs": [
        {
          "name": "stdout",
          "output_type": "stream",
          "text": [
            "84/84 [==============================] - 0s 818us/step\n"
          ]
        },
        {
          "data": {
            "image/png": "[encoded data removed]",
            "text/plain": [
              "<Figure size 432x288 with 1 Axes>"
            ]
          },
          "metadata": {},
          "output_type": "display_data"
        }
      ],
      "source": [
        "# Plot the scatter plot of training data\n",
        "plt.scatter(df_train.gender_boolean, df_train.Total_norm, label='Training Data')\n",
        "\n",
        "# Generate predicted values for the regression line\n",
        "predicted_values = model1.predict(df_train[['Total_norm']])\n",
        "\n",
        "  \n",
        "# Adding space between label and\n",
        "# axis by setting labelpad\n",
        "plt.ylabel('Numbers label', labelpad = 50)\n",
        "\n",
        "# Plot the regression line\n",
        "plt.plot(df_train.Total_norm, predicted_values, color='red', label='Regression Line')\n",
        "\n",
        "# Add labels and title\n",
        "plt.xlabel('Gender (Boolean)')\n",
        "\n",
        "plt.ylabel('Total Compensation (Normalized)')\n",
        "plt.title('Regression Line for Gender Prediction')\n",
        "\n",
        "plt.tick_params(\n",
        "    axis='x',          # changes apply to the x-axis\n",
        "    which='both',      # both major and minor ticks are affected\n",
        "    bottom=False,      # ticks along the bottom edge are off\n",
        "    top=False,         # ticks along the top edge are off\n",
        "    labelbottom=False)\n",
        "\n",
        "plt.text(0, 1, 'Male', fontsize = 12, fontweight = 'bold')\n",
        "plt.text(1, 1, 'Female', fontsize = 12,fontweight = 'bold')\n",
        "#\n",
        "\n",
        "# Add legend\n",
        "plt.legend()\n",
        "\n",
        "# Display the plot\n",
        "plt.show()"
      ]
    },
    {
      "cell_type": "markdown",
      "metadata": {
        "id": "LQyaqSWii60J"
      },
      "source": [
        "## Model 2: Two features: gender and  market cap, single layer\n",
        "\n",
        "We expand the simple model to include market cap (a measure of a company's size). For mid-size companies, men earn 1.1 million and women earn 960,000 For large-size companies, male executives earn 6.37 million and females 5.56 million. The chart below shows an increasing total compensation gap. "
      ]
    },
    {
      "cell_type": "code",
      "execution_count": 63,
      "metadata": {
        "colab": {
          "base_uri": "https://localhost:8080/",
          "height": 881
        },
        "id": "nRdLO0f_VF60",
        "outputId": "b03ce2df-4f67-4129-e50a-2a741586f566"
      },
      "outputs": [
        {
          "data": {
            "text/html": [
              "<div>\n",
              "<style scoped>\n",
              "    .dataframe tbody tr th:only-of-type {\n",
              "        vertical-align: middle;\n",
              "    }\n",
              "\n",
              "    .dataframe tbody tr th {\n",
              "        vertical-align: top;\n",
              "    }\n",
              "\n",
              "    .dataframe thead th {\n",
              "        text-align: right;\n",
              "    }\n",
              "</style>\n",
              "<table border=\"1\" class=\"dataframe\">\n",
              "  <thead>\n",
              "    <tr style=\"text-align: right;\">\n",
              "      <th></th>\n",
              "      <th>loss</th>\n",
              "      <th>val_loss</th>\n",
              "    </tr>\n",
              "  </thead>\n",
              "  <tbody>\n",
              "    <tr>\n",
              "      <th>0</th>\n",
              "      <td>1.188492</td>\n",
              "      <td>0.424056</td>\n",
              "    </tr>\n",
              "    <tr>\n",
              "      <th>1</th>\n",
              "      <td>0.081326</td>\n",
              "      <td>0.040329</td>\n",
              "    </tr>\n",
              "    <tr>\n",
              "      <th>2</th>\n",
              "      <td>0.030441</td>\n",
              "      <td>0.027406</td>\n",
              "    </tr>\n",
              "    <tr>\n",
              "      <th>3</th>\n",
              "      <td>0.026504</td>\n",
              "      <td>0.025035</td>\n",
              "    </tr>\n",
              "    <tr>\n",
              "      <th>4</th>\n",
              "      <td>0.024571</td>\n",
              "      <td>0.023631</td>\n",
              "    </tr>\n",
              "    <tr>\n",
              "      <th>5</th>\n",
              "      <td>0.023683</td>\n",
              "      <td>0.022939</td>\n",
              "    </tr>\n",
              "    <tr>\n",
              "      <th>6</th>\n",
              "      <td>0.023227</td>\n",
              "      <td>0.022558</td>\n",
              "    </tr>\n",
              "    <tr>\n",
              "      <th>7</th>\n",
              "      <td>0.022976</td>\n",
              "      <td>0.022260</td>\n",
              "    </tr>\n",
              "    <tr>\n",
              "      <th>8</th>\n",
              "      <td>0.022717</td>\n",
              "      <td>0.021974</td>\n",
              "    </tr>\n",
              "    <tr>\n",
              "      <th>9</th>\n",
              "      <td>0.022497</td>\n",
              "      <td>0.021708</td>\n",
              "    </tr>\n",
              "  </tbody>\n",
              "</table>\n",
              "</div>"
            ],
            "text/plain": [
              "       loss  val_loss\n",
              "0  1.188492  0.424056\n",
              "1  0.081326  0.040329\n",
              "2  0.030441  0.027406\n",
              "3  0.026504  0.025035\n",
              "4  0.024571  0.023631\n",
              "5  0.023683  0.022939\n",
              "6  0.023227  0.022558\n",
              "7  0.022976  0.022260\n",
              "8  0.022717  0.021974\n",
              "9  0.022497  0.021708"
            ]
          },
          "metadata": {},
          "output_type": "display_data"
        },
        {
          "name": "stdout",
          "output_type": "stream",
          "text": [
            "Weights: [[-0.03532474]\n",
            " [ 0.3943659 ]]\n",
            "Biases: [0.18421158]\n"
          ]
        },
        {
          "data": {
            "image/png": "[encoded data removed]",
            "text/plain": [
              "<Figure size 432x288 with 1 Axes>"
            ]
          },
          "metadata": {},
          "output_type": "display_data"
        }
      ],
      "source": [
        "#MODEL 2: Two features, gender and market cap and single layer. \n",
        "\n",
        "model2 = build_model(num_features=2, learning_rate=0.01)\n",
        "\n",
        "X = np.asarray(df_train[['gender_boolean','MarketCap_norm']])\n",
        "X_test = np.asarray(df_test[['gender_boolean','MarketCap_norm']])\n",
        "Y = np.asarray(df_train.Total_norm)\n",
        "Y_test = np.asarray(df_test.Total_norm)\n",
        "\n",
        "#Train the model\n",
        "history2 = model2.fit(\n",
        "  x = X,\n",
        "  y = Y,\n",
        "  validation_split=0.1,  # use 10% of the examples as a validation set\n",
        "  epochs=10,\n",
        "  batch_size=32,\n",
        "  verbose=0)\n",
        "\n",
        "# Convert the return value into a DataFrame so we can see the loss after each\n",
        "# epoch. The history includes training data loss ('loss') and validation data\n",
        "# loss ('val_loss').\n",
        "\n",
        "display(pd.DataFrame(history2.history))\n",
        "\n",
        "\n",
        "# Use get_weights() which returns lists of weights and biases for the layer.\n",
        "weights, biases = model2.layers[0].get_weights()\n",
        "print('Weights:', weights)\n",
        "print('Biases:', biases)\n",
        "\n",
        "# Run funtion to show the history\n",
        "show_history(history2, \"Single-layer neural network with two features\")"
      ]
    },
    {
      "cell_type": "code",
      "execution_count": 64,
      "metadata": {
        "colab": {
          "base_uri": "https://localhost:8080/"
        },
        "id": "PQQfzg-fCcRK",
        "outputId": "2907058d-e93b-400e-9a6e-000d12e31c17"
      },
      "outputs": [
        {
          "name": "stdout",
          "output_type": "stream",
          "text": [
            "84/84 [==============================] - 0s 744us/step\n",
            "Y_pred shape: (2664, 1)\n",
            "Y_pred shape: (2664,)\n",
            "Average RMSE: 0.1512309137581167\n"
          ]
        }
      ],
      "source": [
        "# Calculating RMSE for model 2\n",
        "Y_pred = model2.predict(X_test)\n",
        "\n",
        "print(\"Y_pred shape:\", Y_pred.shape)\n",
        "# Squeeze Y_pred to remove singleton dimensions\n",
        "Y_pred = Y_pred[:,0]\n",
        "print(\"Y_pred shape:\", Y_pred.shape)\n",
        "\n",
        "# Calculate squared differences for each predicted value\n",
        "squared_diff = (Y_pred - Y_test) ** 2\n",
        "\n",
        "# Calculate mean squared error (MSE) for each predicted value\n",
        "mse = np.mean(squared_diff)\n",
        "\n",
        "# Calculate root mean squared error (RMSE) for each predicted value\n",
        "rmse = np.sqrt(mse)\n",
        "\n",
        "# Calculate average RMSE across all predicted values\n",
        "average_rmse2 = np.mean(rmse)\n",
        "\n",
        "print(\"Average RMSE:\", average_rmse2)"
      ]
    },
    {
      "cell_type": "markdown",
      "metadata": {
        "id": "q80WvlGJtxlj"
      },
      "source": [
        "## Model 2 Predictions\n",
        "\n",
        "Using model 2, two features and single layer neutral network, we find that male executives in large companies are predicted to earn about 6.37 million dollars and female executives 5.56  million dollars. "
      ]
    },
    {
      "cell_type": "code",
      "execution_count": 65,
      "metadata": {
        "colab": {
          "base_uri": "https://localhost:8080/",
          "height": 621
        },
        "id": "XPQpwWcsZkrl",
        "outputId": "f89d61a0-3951-4b3f-fb2e-dd5346ddf656"
      },
      "outputs": [
        {
          "name": "stdout",
          "output_type": "stream",
          "text": [
            "84/84 [==============================] - 0s 748us/step\n"
          ]
        },
        {
          "name": "stderr",
          "output_type": "stream",
          "text": [
            "/var/folders/n0/d70zymq16ygg9pq3qdwl5_n00000gn/T/ipykernel_67228/1742379632.py:6: SettingWithCopyWarning: \n",
            "A value is trying to be set on a copy of a slice from a DataFrame.\n",
            "Try using .loc[row_indexer,col_indexer] = value instead\n",
            "\n",
            "See the caveats in the documentation: https://pandas.pydata.org/pandas-docs/stable/user_guide/indexing.html#returning-a-view-versus-a-copy\n",
            "  df_model2_predict_test[\"Predicted_Total_Test\"] = [unnormalize_total(x) for x in model2_predictions[:,0]]\n"
          ]
        },
        {
          "data": {
            "image/png": "[encoded data removed]",
            "text/plain": [
              "<Figure size 432x288 with 1 Axes>"
            ]
          },
          "metadata": {},
          "output_type": "display_data"
        }
      ],
      "source": [
        "# Create a dataframe of the predictions to use for the plots\n",
        "df_model2_predict_test = pd.DataFrame()\n",
        "df_model2_predict_test = df_test[['gender_boolean', 'MarketCap_norm']]\n",
        "model2_predictions = model2.predict(df_model2_predict_test)\n",
        "# take the first column from the predictions generated and unnormalize them in a list comprehension\n",
        "df_model2_predict_test[\"Predicted_Total_Test\"] = [unnormalize_total(x) for x in model2_predictions[:,0]]\n",
        "df_model2_predict_test = df_model2_predict_test.sort_values(by=['MarketCap_norm'], ascending=True)\n",
        "\n",
        "# Plot of the predictions \n",
        "\n",
        "x1 = df_model2_predict_test[df_model2_predict_test.gender_boolean == 0][\"MarketCap_norm\"]\n",
        "y1 = df_model2_predict_test[df_model2_predict_test.gender_boolean == 0][\"Predicted_Total_Test\"]\n",
        "\n",
        "#line 1\n",
        "plt.plot(x1, y1, label = \"Male Predicted Compensation\")\n",
        "\n",
        "# line 2 points\n",
        "x2 = df_model2_predict_test[df_model2_predict_test.gender_boolean == 1][\"MarketCap_norm\"]\n",
        "y2 = df_model2_predict_test[df_model2_predict_test.gender_boolean == 1][\"Predicted_Total_Test\"]\n",
        "\n",
        "\n",
        "# plotting the line 2 points \n",
        "plt.plot(x2, y2, label = \"Female Predicted Compensation\", color =\"r\")\n",
        "plt.xlabel('Company size as proxied by Market Cap (normalized)')\n",
        "# Set the y axis label of the current axis.\n",
        "plt.ylabel('Total Compensation')\n",
        "# Set a title of the current axes.\n",
        "plt.title('Single-Layer Neutral Network: Predicted Total Compensation', fontweight =\"bold\")\n",
        "# show a legend on the plot\n",
        "plt.legend()\n",
        "# Display a figure.\n",
        "plt.show()\n"
      ]
    },
    {
      "cell_type": "markdown",
      "metadata": {
        "id": "nCrqrnSMfz3V"
      },
      "source": [
        "## Model 3: Multilayer neural network, two features\n",
        "\n",
        "We used a multilayer neural network, adding in hidden_layers and relu activation. Training and validation loss shows better convergence. Predictions are similiar to single-layer model, showing a pay gap as company size increases. For large companies, the model predicts a male compensation of 6.16 million dollars and for females 5.26 million dollars. \n"
      ]
    },
    {
      "cell_type": "code",
      "execution_count": 66,
      "metadata": {
        "colab": {
          "base_uri": "https://localhost:8080/",
          "height": 881
        },
        "id": "93rxV5HtgHBZ",
        "outputId": "b814535c-7d3b-4a51-c65b-72a363caac00"
      },
      "outputs": [
        {
          "data": {
            "text/html": [
              "<div>\n",
              "<style scoped>\n",
              "    .dataframe tbody tr th:only-of-type {\n",
              "        vertical-align: middle;\n",
              "    }\n",
              "\n",
              "    .dataframe tbody tr th {\n",
              "        vertical-align: top;\n",
              "    }\n",
              "\n",
              "    .dataframe thead th {\n",
              "        text-align: right;\n",
              "    }\n",
              "</style>\n",
              "<table border=\"1\" class=\"dataframe\">\n",
              "  <thead>\n",
              "    <tr style=\"text-align: right;\">\n",
              "      <th></th>\n",
              "      <th>loss</th>\n",
              "      <th>val_loss</th>\n",
              "    </tr>\n",
              "  </thead>\n",
              "  <tbody>\n",
              "    <tr>\n",
              "      <th>0</th>\n",
              "      <td>0.098403</td>\n",
              "      <td>0.086353</td>\n",
              "    </tr>\n",
              "    <tr>\n",
              "      <th>1</th>\n",
              "      <td>0.088754</td>\n",
              "      <td>0.081081</td>\n",
              "    </tr>\n",
              "    <tr>\n",
              "      <th>2</th>\n",
              "      <td>0.083808</td>\n",
              "      <td>0.076678</td>\n",
              "    </tr>\n",
              "    <tr>\n",
              "      <th>3</th>\n",
              "      <td>0.077022</td>\n",
              "      <td>0.067981</td>\n",
              "    </tr>\n",
              "    <tr>\n",
              "      <th>4</th>\n",
              "      <td>0.070960</td>\n",
              "      <td>0.065585</td>\n",
              "    </tr>\n",
              "    <tr>\n",
              "      <th>5</th>\n",
              "      <td>0.068873</td>\n",
              "      <td>0.062940</td>\n",
              "    </tr>\n",
              "    <tr>\n",
              "      <th>6</th>\n",
              "      <td>0.067828</td>\n",
              "      <td>0.063625</td>\n",
              "    </tr>\n",
              "    <tr>\n",
              "      <th>7</th>\n",
              "      <td>0.067919</td>\n",
              "      <td>0.063623</td>\n",
              "    </tr>\n",
              "    <tr>\n",
              "      <th>8</th>\n",
              "      <td>0.067280</td>\n",
              "      <td>0.061856</td>\n",
              "    </tr>\n",
              "    <tr>\n",
              "      <th>9</th>\n",
              "      <td>0.066638</td>\n",
              "      <td>0.060704</td>\n",
              "    </tr>\n",
              "  </tbody>\n",
              "</table>\n",
              "</div>"
            ],
            "text/plain": [
              "       loss  val_loss\n",
              "0  0.098403  0.086353\n",
              "1  0.088754  0.081081\n",
              "2  0.083808  0.076678\n",
              "3  0.077022  0.067981\n",
              "4  0.070960  0.065585\n",
              "5  0.068873  0.062940\n",
              "6  0.067828  0.063625\n",
              "7  0.067919  0.063623\n",
              "8  0.067280  0.061856\n",
              "9  0.066638  0.060704"
            ]
          },
          "metadata": {},
          "output_type": "display_data"
        },
        {
          "name": "stdout",
          "output_type": "stream",
          "text": [
            "Weights: [[-0.10217998]\n",
            " [ 1.8014442 ]]\n",
            "Biases: [0.6188182]\n"
          ]
        },
        {
          "data": {
            "image/png": "[encoded data removed]",
            "text/plain": [
              "<Figure size 432x288 with 1 Axes>"
            ]
          },
          "metadata": {},
          "output_type": "display_data"
        }
      ],
      "source": [
        "#MODEL 3: 2 features gender and market cap, and adding multiple layers\n",
        "\n",
        "model3 = build_model_multi(num_features=2,learning_rate=0.01,hidden_layer_sizes=[256,128])\n",
        "\n",
        "X = np.asarray(df_train[['gender_boolean','MarketCap_norm']])\n",
        "X_test = np.asarray(df_test[['gender_boolean','MarketCap_norm']])\n",
        "Y = np.asarray(df_train.Total_norm)\n",
        "Y_test = np.asarray(df_test.Total_norm)\n",
        "\n",
        "#Train the model\n",
        "history3 = model3.fit(\n",
        "  x = X,\n",
        "  y = Y,\n",
        "  validation_split=0.1,  # use 10% of the examples as a validation set\n",
        "  epochs=10,\n",
        "  batch_size=32,\n",
        "  verbose=0)\n",
        "\n",
        "# Convert the return value into a DataFrame so we can see the loss after each\n",
        "# epoch. The history includes training data loss ('loss') and validation data\n",
        "# loss ('val_loss').\n",
        "display(pd.DataFrame(history3.history))\n",
        "\n",
        "\n",
        "# Use get_weights() which returns lists of weights and biases for the layer.\n",
        "weights, biases = model3.layers[0].get_weights()\n",
        "print('Weights:', weights)\n",
        "print('Biases:', biases)\n",
        "\n",
        "\n",
        "show_history(history3,\"Multilayer neural network with two features\")\n",
        "\n",
        "\n",
        "\n",
        "\n"
      ]
    },
    {
      "cell_type": "code",
      "execution_count": 67,
      "metadata": {
        "colab": {
          "base_uri": "https://localhost:8080/"
        },
        "id": "95p9Pztr77x9",
        "outputId": "9fb01221-0f29-42e9-db20-d48740953720"
      },
      "outputs": [
        {
          "name": "stdout",
          "output_type": "stream",
          "text": [
            "84/84 [==============================] - 0s 1ms/step\n",
            "Y_pred shape: (2664, 128)\n",
            "Y_pred shape: (2664,)\n",
            "Average RMSE: 0.14618576521955584\n"
          ]
        }
      ],
      "source": [
        "# Calculating RMSE for model 3\n",
        "Y_pred = model3.predict(X_test)\n",
        "\n",
        "print(\"Y_pred shape:\", Y_pred.shape)\n",
        "# Squeeze Y_pred to remove singleton dimensions\n",
        "Y_pred = Y_pred[:,0]\n",
        "print(\"Y_pred shape:\", Y_pred.shape)\n",
        "\n",
        "# Calculate squared differences for each predicted value\n",
        "squared_diff = (Y_pred - Y_test) ** 2\n",
        "\n",
        "# Calculate mean squared error (MSE) for each predicted value\n",
        "mse = np.mean(squared_diff)\n",
        "\n",
        "# Calculate root mean squared error (RMSE) for each predicted value\n",
        "rmse = np.sqrt(mse)\n",
        "\n",
        "# Calculate average RMSE across all predicted values\n",
        "average_rmse3 = np.mean(rmse)\n",
        "\n",
        "print(\"Average RMSE:\", average_rmse3)"
      ]
    },
    {
      "cell_type": "code",
      "execution_count": 68,
      "metadata": {
        "colab": {
          "base_uri": "https://localhost:8080/",
          "height": 621
        },
        "id": "5aprE81o37XN",
        "outputId": "7ba94f0e-e77d-4fdf-b99c-c3971a89d089"
      },
      "outputs": [
        {
          "name": "stdout",
          "output_type": "stream",
          "text": [
            "84/84 [==============================] - 0s 1ms/step\n"
          ]
        },
        {
          "name": "stderr",
          "output_type": "stream",
          "text": [
            "/var/folders/n0/d70zymq16ygg9pq3qdwl5_n00000gn/T/ipykernel_67228/2275043255.py:8: SettingWithCopyWarning: \n",
            "A value is trying to be set on a copy of a slice from a DataFrame.\n",
            "Try using .loc[row_indexer,col_indexer] = value instead\n",
            "\n",
            "See the caveats in the documentation: https://pandas.pydata.org/pandas-docs/stable/user_guide/indexing.html#returning-a-view-versus-a-copy\n",
            "  df_model3_predict_test[\"Predicted_Total_Test\"] = [unnormalize_total(x) for x in model3_predictions[:,0]]\n"
          ]
        },
        {
          "data": {
            "image/png": "[encoded data removed]",
            "text/plain": [
              "<Figure size 432x288 with 1 Axes>"
            ]
          },
          "metadata": {},
          "output_type": "display_data"
        }
      ],
      "source": [
        "# Save predictions to dataframe, creating values for graphs\n",
        "\n",
        "df_model3_predict_test = pd.DataFrame()\n",
        "df_model3_predict_test = df_test[['gender_boolean','MarketCap_norm']]\n",
        "model3_predictions = model3.predict(df_model3_predict_test)\n",
        "\n",
        "# take the first column from the predictions generated and unnormalize them in a list comprehension\n",
        "df_model3_predict_test[\"Predicted_Total_Test\"] = [unnormalize_total(x) for x in model3_predictions[:,0]]\n",
        "\n",
        "\n",
        "# Plot of the predictions \n",
        "\n",
        "# Need to sort the values since they are not in order\n",
        "sorted_df = df_model3_predict_test.sort_values(by=['MarketCap_norm'], ascending=True)\n",
        "\n",
        "\n",
        "x1_test = sorted_df[sorted_df.gender_boolean == 0][\"MarketCap_norm\"]\n",
        "y1_test = sorted_df[sorted_df.gender_boolean == 0][\"Predicted_Total_Test\"]\n",
        "\n",
        "#line 1\n",
        "plt.plot(x1_test, y1_test, label = \"Test Male Predicted Compensation\")\n",
        "\n",
        "# line 2 points\n",
        "\n",
        "x2_test = sorted_df[sorted_df.gender_boolean == 1][\"MarketCap_norm\"]\n",
        "y2_test = sorted_df[sorted_df.gender_boolean == 1][\"Predicted_Total_Test\"]\n",
        "\n",
        "# plotting the line 2 points \n",
        "plt.plot(x2_test, y2_test, label = \"Test Female Predicted Compensation\", color =\"r\")\n",
        "\n",
        "plt.xlabel('Company size as proxied by Market Cap (normalized)')\n",
        "# Set the y axis label of the current axis.\n",
        "plt.ylabel('Total Compensation')\n",
        "# Set a title of the current axes.\n",
        "plt.title('Multilayer Neutral Network: Predicted Total Compensation Test Data', fontweight =\"bold\")\n",
        "# show a legend on the plot\n",
        "plt.legend()\n",
        "# Display a figure.\n",
        "plt.show()"
      ]
    },
    {
      "cell_type": "code",
      "execution_count": 69,
      "metadata": {
        "colab": {
          "base_uri": "https://localhost:8080/"
        },
        "id": "v-YBoMvM1Kp4",
        "outputId": "e9747486-a8d1-4f3b-c830-65590aeeaa8d"
      },
      "outputs": [
        {
          "name": "stdout",
          "output_type": "stream",
          "text": [
            "[-0.03108924  0.67195779]\n"
          ]
        }
      ],
      "source": [
        "# Using L2 regularization to boost accuracy\n",
        "# Create an instance of Ridge model with regularization strength alpha\n",
        "ridge_model4 = Ridge(alpha=1.0)\n",
        "\n",
        "# Train the Ridge model using training data\n",
        "ridge_model4.fit(X, Y)\n",
        "\n",
        "# Predict using the trained Ridge model\n",
        "y_pred = ridge_model4.predict(X_test)\n",
        "\n",
        "# Evaluate the Ridge model using appropriate evaluation metrics\n",
        "# (e.g., mean squared error for regression or accuracy for classification)\n",
        "mse = mean_squared_error(Y_test, y_pred)\n",
        "\n",
        "# Access the learned coefficients (parameters) of the Ridge model\n",
        "coefficients = ridge_model4.coef_\n",
        "print(coefficients)"
      ]
    },
    {
      "cell_type": "code",
      "execution_count": 70,
      "metadata": {
        "id": "F6H8riBR1K0B"
      },
      "outputs": [],
      "source": [
        "# Find feature importance based on coef\n",
        "X = pd.DataFrame(df_train[['gender_boolean','MarketCap_norm', 'Sector', 'category']])\n",
        "importance_scores = ridge_model4.coef_\n",
        "feature_names = X.columns"
      ]
    },
    {
      "cell_type": "code",
      "execution_count": 71,
      "metadata": {
        "id": "nrmiwjoh1bZp"
      },
      "outputs": [],
      "source": [
        "# Find and sort features\n",
        "importance_indices = importance_scores.argsort()[::-1]\n",
        "sorted_importance_scores = importance_scores[importance_indices]\n",
        "sorted_feature_names = feature_names[importance_indices]"
      ]
    },
    {
      "cell_type": "code",
      "execution_count": 72,
      "metadata": {
        "colab": {
          "base_uri": "https://localhost:8080/"
        },
        "id": "LPEkBHd12h4a",
        "outputId": "cbef8a78-f2f7-4404-d055-fdfee92ce138"
      },
      "outputs": [
        {
          "name": "stdout",
          "output_type": "stream",
          "text": [
            "Accuracy values: [0.13674909 0.46021307 0.56962596 ... 0.13916076 0.42725102 0.5121733 ]\n",
            "Predictions values: [0.29196812 0.45360137 0.40770783 ... 0.31021202 0.40180614 0.25603729]\n",
            "R-squared value: 0.3295809073887226\n"
          ]
        }
      ],
      "source": [
        "# calculate R squared\n",
        "actual_values = np.asarray(df_test['Total_norm']) # Actual accuracy values\n",
        "predicted_values = np.array(y_pred)  # Predicted accuracy values\n",
        "\n",
        "# Calculate accuracy values\n",
        "accuracy = actual_values\n",
        "\n",
        "# Calculate predictions values\n",
        "predictions = predicted_values\n",
        "\n",
        "# Calculate R-squared value\n",
        "r2 = r2_score(accuracy, predictions)\n",
        "\n",
        "# Print accuracy, predictions, and R-squared value\n",
        "print(\"Accuracy values:\", accuracy)\n",
        "print(\"Predictions values:\", predictions)\n",
        "print(\"R-squared value:\", r2)\n",
        "\n",
        "\n",
        "r2 = r2_score(accuracy, predictions)"
      ]
    },
    {
      "cell_type": "code",
      "execution_count": 73,
      "metadata": {
        "colab": {
          "base_uri": "https://localhost:8080/"
        },
        "id": "gdSt9HY11bnJ",
        "outputId": "d99524e0-a6c5-4acd-85a3-d643e6a66831"
      },
      "outputs": [
        {
          "name": "stdout",
          "output_type": "stream",
          "text": [
            "Accuracy values: [0.13674909 0.46021307 0.56962596 ... 0.13916076 0.42725102 0.5121733 ]\n",
            "Predictions values: [0.29196812 0.45360137 0.40770783 ... 0.31021202 0.40180614 0.25603729]\n",
            "RMSE: 0.14409849835218866\n"
          ]
        }
      ],
      "source": [
        "# Calculating RMSE for ridge model \n",
        "Y_pred = ridge_model4.predict(X_test)\n",
        "\n",
        "\n",
        "# Calculate squared differences for each predicted value\n",
        "squared_diff = (Y_pred - Y_test) ** 2\n",
        "\n",
        "# Calculate mean squared error (MSE) for each predicted value\n",
        "mse = np.mean(squared_diff)\n",
        "\n",
        "# Calculate root mean squared error (RMSE) for each predicted value\n",
        "rmse_ridge = np.sqrt(mse)\n",
        "\n",
        "# Calculate average RMSE across all predicted values\n",
        "average_rmse = np.mean(rmse_ridge)\n",
        "\n",
        "\n",
        "actual_values = np.asarray(df_test['Total_norm']) # Actual accuracy values\n",
        "predicted_values = np.array(Y_pred)  # Predicted accuracy values\n",
        "\n",
        "# Calculate accuracy values\n",
        "accuracy = actual_values\n",
        "\n",
        "# Calculate predictions values\n",
        "predictions = predicted_values\n",
        "\n",
        "\n",
        "# Print accuracy, predictions, and RMSE\n",
        "print(\"Accuracy values:\", accuracy)\n",
        "print(\"Predictions values:\", predictions)\n",
        "print(\"RMSE:\", average_rmse)"
      ]
    },
    {
      "cell_type": "code",
      "execution_count": 74,
      "metadata": {
        "colab": {
          "base_uri": "https://localhost:8080/",
          "height": 480
        },
        "id": "oDR4W_zNuclC",
        "outputId": "270b0882-c8f0-4d22-9748-2ce8a1a5b7eb"
      },
      "outputs": [
        {
          "data": {
            "image/png": "[encoded data removed]",
            "text/plain": [
              "<Figure size 432x288 with 1 Axes>"
            ]
          },
          "metadata": {},
          "output_type": "display_data"
        }
      ],
      "source": [
        "# Plot prediction vs. accuracy with a diagonal line and R-squared value\n",
        "plt.scatter(predictions, accuracy)\n",
        "plt.xlabel('Predictions')\n",
        "plt.ylabel('Accuracy')\n",
        "plt.title('Prediction vs. Accuracy')\n",
        "plt.plot([min(predictions), max(predictions)], [min(accuracy), max(accuracy)], color='red', linestyle='--', label='Perfect Prediction')\n",
        "plt.legend()\n",
        "plt.text(max(predictions), min(accuracy), f'RMSE = {average_rmse:.2f}', ha='right', va='bottom')\n",
        "plt.show()"
      ]
    },
    {
      "cell_type": "code",
      "execution_count": 75,
      "metadata": {
        "colab": {
          "base_uri": "https://localhost:8080/"
        },
        "id": "IPjbe8FTehy8",
        "outputId": "344da741-092c-4830-f877-06c6138c8791"
      },
      "outputs": [
        {
          "name": "stdout",
          "output_type": "stream",
          "text": [
            "Average RMSE: 0.14409849835218866\n"
          ]
        }
      ],
      "source": [
        "# Double checking calculation RMSE for Ridge model\n",
        "\n",
        "# Calculate squared differences for each predicted value\n",
        "squared_diff = (predictions - accuracy) ** 2\n",
        "\n",
        "# Calculate mean squared error (MSE) for each predicted value\n",
        "mse = np.mean(squared_diff)\n",
        "\n",
        "# Calculate root mean squared error (RMSE) for each predicted value\n",
        "rmse = np.sqrt(mse)\n",
        "\n",
        "# Calculate average RMSE across all predicted values\n",
        "average_rmse_ridge = np.mean(rmse)\n",
        "\n",
        "print(\"Average RMSE:\", average_rmse_ridge)"
      ]
    },
    {
      "cell_type": "markdown",
      "metadata": {
        "id": "VJ9U0op4HH0d"
      },
      "source": [
        "# Model 4: Multi-layer neutral network, using catergorical data, transformed with integer encoding \n",
        "\n",
        "We wanted to look collectively at how gender, position, industry, and market capitalization can predict total compensation. \n",
        "The sectors are defined as the Global Industry Classifications Standards (GICS, a standard classification method for publically-traded companies.  We find that market capitalization has a large impact on compensation. "
      ]
    },
    {
      "cell_type": "code",
      "execution_count": 76,
      "metadata": {
        "colab": {
          "base_uri": "https://localhost:8080/"
        },
        "id": "ydTiodhQHvPZ",
        "outputId": "3768c045-3fac-4ea8-f9be-5500d94e565a"
      },
      "outputs": [
        {
          "name": "stdout",
          "output_type": "stream",
          "text": [
            "['Basic Materials' 'Communication Services' 'Consumer Cyclical'\n",
            " 'Consumer Defensive' 'Energy' 'Financial Services' 'Healthcare'\n",
            " 'Industrials' 'Real Estate' 'Technology' 'Utilities' 'nan']\n"
          ]
        }
      ],
      "source": [
        "# dataframe encoding for model 4\n",
        "# convert to str to find unique values\n",
        "df_train['Sector_n'] = df_train['Sector'].apply(str)\n",
        "df_test['Sector_n'] = df_test['Sector'].apply(str)\n",
        "print(np.unique(df_train['Sector_n']))\n",
        "\n",
        "df_train['category_n'] = df_train['category'].apply(str)\n",
        "df_test['category_n'] = df_test['category'].apply(str)\n",
        "\n",
        "#Translate unique sector strings to int\n",
        "# List of unique sector values\n",
        "sector_values = ['Basic Materials', 'Communication Services', 'Consumer Cyclical', 'Consumer Defensive',\n",
        "                 'Energy', 'Financial Services', 'Healthcare', 'Industrials', 'Real Estate', 'Technology',\n",
        "                 'Utilities', 'nan']\n",
        "\n",
        "# Create a dictionary to map sector values to integers\n",
        "sector_to_int = {sector: i for i, sector in enumerate(sector_values)}\n",
        "\n",
        "# Function to map sector values to integers\n",
        "def map_sector_to_int(sector):\n",
        "    if sector in sector_to_int:\n",
        "        return sector_to_int[sector]\n",
        "    else:\n",
        "        # Assign a default value (e.g., -1) for unknown sectors or 'nan'\n",
        "        return -1\n",
        "\n",
        "# Map sector values to integers in the DataFrame\n",
        "df_train['Sector_n'] = df_train['Sector'].map(map_sector_to_int)\n",
        "df_test['Sector_n'] = df_test['Sector'].map(map_sector_to_int)\n",
        "\n",
        "#df_train.head()\n"
      ]
    },
    {
      "cell_type": "code",
      "execution_count": 77,
      "metadata": {
        "colab": {
          "base_uri": "https://localhost:8080/",
          "height": 647
        },
        "id": "Nk-PwqGpeVqK",
        "outputId": "8603da17-f21c-4abc-a931-54dc797190cf"
      },
      "outputs": [
        {
          "data": {
            "text/html": [
              "<div>\n",
              "<style scoped>\n",
              "    .dataframe tbody tr th:only-of-type {\n",
              "        vertical-align: middle;\n",
              "    }\n",
              "\n",
              "    .dataframe tbody tr th {\n",
              "        vertical-align: top;\n",
              "    }\n",
              "\n",
              "    .dataframe thead th {\n",
              "        text-align: right;\n",
              "    }\n",
              "</style>\n",
              "<table border=\"1\" class=\"dataframe\">\n",
              "  <thead>\n",
              "    <tr style=\"text-align: right;\">\n",
              "      <th></th>\n",
              "      <th>Unnamed: 0</th>\n",
              "      <th>Unnamed: 0.1</th>\n",
              "      <th>CIK</th>\n",
              "      <th>Ticker</th>\n",
              "      <th>Name</th>\n",
              "      <th>Position</th>\n",
              "      <th>Year</th>\n",
              "      <th>Salary</th>\n",
              "      <th>Stock Awards</th>\n",
              "      <th>Option Awards</th>\n",
              "      <th>...</th>\n",
              "      <th>Sector</th>\n",
              "      <th>Industry</th>\n",
              "      <th>category</th>\n",
              "      <th>categorized_role</th>\n",
              "      <th>gender_boolean</th>\n",
              "      <th>BinnedCompensation</th>\n",
              "      <th>Total_norm</th>\n",
              "      <th>MarketCap_norm</th>\n",
              "      <th>Sector_n</th>\n",
              "      <th>category_n</th>\n",
              "    </tr>\n",
              "  </thead>\n",
              "  <tbody>\n",
              "    <tr>\n",
              "      <th>5912</th>\n",
              "      <td>5912</td>\n",
              "      <td>6466</td>\n",
              "      <td>936468</td>\n",
              "      <td>LMT</td>\n",
              "      <td>Kenneth R. Possenriede</td>\n",
              "      <td>Former Chief Financial Officer</td>\n",
              "      <td>2021</td>\n",
              "      <td>805666</td>\n",
              "      <td>4236620</td>\n",
              "      <td>0</td>\n",
              "      <td>...</td>\n",
              "      <td>Financial Services</td>\n",
              "      <td>Banks - Regional</td>\n",
              "      <td>CFO</td>\n",
              "      <td>CFO</td>\n",
              "      <td>0</td>\n",
              "      <td>(7000000, 8000000]</td>\n",
              "      <td>0.580144</td>\n",
              "      <td>0.823964</td>\n",
              "      <td>5</td>\n",
              "      <td>2</td>\n",
              "    </tr>\n",
              "    <tr>\n",
              "      <th>198625</th>\n",
              "      <td>198625</td>\n",
              "      <td>212865</td>\n",
              "      <td>1131554</td>\n",
              "      <td>SNCR</td>\n",
              "      <td>Louis Ferraro</td>\n",
              "      <td>EVP Finance Operations, Chief Human Resources ...</td>\n",
              "      <td>2021</td>\n",
              "      <td>321250</td>\n",
              "      <td>0</td>\n",
              "      <td>262215</td>\n",
              "      <td>...</td>\n",
              "      <td>Industrials</td>\n",
              "      <td>Specialty Industrial Machinery</td>\n",
              "      <td>CHRO</td>\n",
              "      <td>CHRO</td>\n",
              "      <td>0</td>\n",
              "      <td>(500000, 1000000]</td>\n",
              "      <td>0.213296</td>\n",
              "      <td>0.398357</td>\n",
              "      <td>7</td>\n",
              "      <td>3</td>\n",
              "    </tr>\n",
              "    <tr>\n",
              "      <th>108128</th>\n",
              "      <td>108128</td>\n",
              "      <td>116551</td>\n",
              "      <td>891014</td>\n",
              "      <td>MTX</td>\n",
              "      <td>Douglas T. Dietrich</td>\n",
              "      <td>Chairman of the Board and Chief Executive Officer</td>\n",
              "      <td>2021</td>\n",
              "      <td>1000000</td>\n",
              "      <td>1920006</td>\n",
              "      <td>959997</td>\n",
              "      <td>...</td>\n",
              "      <td>Healthcare</td>\n",
              "      <td>Medical Instruments &amp; Supplies</td>\n",
              "      <td>CEO</td>\n",
              "      <td>CEO</td>\n",
              "      <td>0</td>\n",
              "      <td>(7000000, 8000000]</td>\n",
              "      <td>0.574313</td>\n",
              "      <td>0.575626</td>\n",
              "      <td>6</td>\n",
              "      <td>1</td>\n",
              "    </tr>\n",
              "    <tr>\n",
              "      <th>204852</th>\n",
              "      <td>204852</td>\n",
              "      <td>219493</td>\n",
              "      <td>1762322</td>\n",
              "      <td>SFT</td>\n",
              "      <td>Oded Shein</td>\n",
              "      <td>Chief Financial Officer</td>\n",
              "      <td>2021</td>\n",
              "      <td>308750</td>\n",
              "      <td>2517973</td>\n",
              "      <td>0</td>\n",
              "      <td>...</td>\n",
              "      <td>Industrials</td>\n",
              "      <td>Railroads</td>\n",
              "      <td>CFO</td>\n",
              "      <td>CFO</td>\n",
              "      <td>0</td>\n",
              "      <td>(3000000, 4000000]</td>\n",
              "      <td>0.458482</td>\n",
              "      <td>0.373119</td>\n",
              "      <td>7</td>\n",
              "      <td>2</td>\n",
              "    </tr>\n",
              "    <tr>\n",
              "      <th>133834</th>\n",
              "      <td>133834</td>\n",
              "      <td>143874</td>\n",
              "      <td>923120</td>\n",
              "      <td>GBX</td>\n",
              "      <td>Mark J. Rittenbaum</td>\n",
              "      <td>Executive Vice Presidentand Senior Advisor to ...</td>\n",
              "      <td>2021</td>\n",
              "      <td>565000</td>\n",
              "      <td>1228576</td>\n",
              "      <td>0</td>\n",
              "      <td>...</td>\n",
              "      <td>Basic Materials</td>\n",
              "      <td>Specialty Chemicals</td>\n",
              "      <td>Other</td>\n",
              "      <td>Other</td>\n",
              "      <td>0</td>\n",
              "      <td>(2000000, 3000000]</td>\n",
              "      <td>0.405131</td>\n",
              "      <td>0.527530</td>\n",
              "      <td>0</td>\n",
              "      <td>11</td>\n",
              "    </tr>\n",
              "  </tbody>\n",
              "</table>\n",
              "<p>5 rows × 27 columns</p>\n",
              "</div>"
            ],
            "text/plain": [
              "        Unnamed: 0  Unnamed: 0.1      CIK Ticker                    Name  \\\n",
              "5912          5912          6466   936468    LMT  Kenneth R. Possenriede   \n",
              "198625      198625        212865  1131554   SNCR           Louis Ferraro   \n",
              "108128      108128        116551   891014    MTX     Douglas T. Dietrich   \n",
              "204852      204852        219493  1762322    SFT              Oded Shein   \n",
              "133834      133834        143874   923120    GBX      Mark J. Rittenbaum   \n",
              "\n",
              "                                                 Position  Year   Salary  \\\n",
              "5912                       Former Chief Financial Officer  2021   805666   \n",
              "198625  EVP Finance Operations, Chief Human Resources ...  2021   321250   \n",
              "108128  Chairman of the Board and Chief Executive Officer  2021  1000000   \n",
              "204852                            Chief Financial Officer  2021   308750   \n",
              "133834  Executive Vice Presidentand Senior Advisor to ...  2021   565000   \n",
              "\n",
              "        Stock Awards  Option Awards  ...              Sector  \\\n",
              "5912         4236620              0  ...  Financial Services   \n",
              "198625             0         262215  ...         Industrials   \n",
              "108128       1920006         959997  ...          Healthcare   \n",
              "204852       2517973              0  ...         Industrials   \n",
              "133834       1228576              0  ...     Basic Materials   \n",
              "\n",
              "                              Industry  category categorized_role  \\\n",
              "5912                  Banks - Regional       CFO              CFO   \n",
              "198625  Specialty Industrial Machinery      CHRO             CHRO   \n",
              "108128  Medical Instruments & Supplies       CEO              CEO   \n",
              "204852                       Railroads       CFO              CFO   \n",
              "133834             Specialty Chemicals     Other            Other   \n",
              "\n",
              "       gender_boolean  BinnedCompensation  Total_norm MarketCap_norm Sector_n  \\\n",
              "5912                0  (7000000, 8000000]    0.580144       0.823964        5   \n",
              "198625              0   (500000, 1000000]    0.213296       0.398357        7   \n",
              "108128              0  (7000000, 8000000]    0.574313       0.575626        6   \n",
              "204852              0  (3000000, 4000000]    0.458482       0.373119        7   \n",
              "133834              0  (2000000, 3000000]    0.405131       0.527530        0   \n",
              "\n",
              "       category_n  \n",
              "5912            2  \n",
              "198625          3  \n",
              "108128          1  \n",
              "204852          2  \n",
              "133834         11  \n",
              "\n",
              "[5 rows x 27 columns]"
            ]
          },
          "execution_count": 77,
          "metadata": {},
          "output_type": "execute_result"
        }
      ],
      "source": [
        "# Convert role (category) values to int\n",
        "category_values = ['CDO', 'CEO', 'CFO', 'CHRO', 'CIO', 'CISO', 'CMO', 'COO', 'CSO', 'CTO', 'GC', 'Other']\n",
        "\n",
        "# Create a dictionary to map category values to integers\n",
        "category_to_int = {category.upper(): i for i, category in enumerate(category_values)}\n",
        "\n",
        "# Function to map category values to integers\n",
        "def map_category_to_int(category):\n",
        "    if category in category_to_int:\n",
        "        return category_to_int[category]\n",
        "    else:\n",
        "        # Assign a default value (e.g., -1) for unknown categories or 'NaN'\n",
        "        return -1\n",
        "\n",
        "# Map category values to integers in the DataFrame\n",
        "df_train['category_n'] = df_train['category_n'].str.upper().map(map_category_to_int)\n",
        "df_test['category_n'] = df_test['category_n'].str.upper().map(map_category_to_int)\n",
        "df_train.head()\n"
      ]
    },
    {
      "cell_type": "code",
      "execution_count": 78,
      "metadata": {
        "colab": {
          "base_uri": "https://localhost:8080/",
          "height": 916
        },
        "id": "_snaKpi7NUso",
        "outputId": "f776ae61-8e7a-4b37-c1f2-f56943cfc4c4"
      },
      "outputs": [
        {
          "data": {
            "text/html": [
              "<div>\n",
              "<style scoped>\n",
              "    .dataframe tbody tr th:only-of-type {\n",
              "        vertical-align: middle;\n",
              "    }\n",
              "\n",
              "    .dataframe tbody tr th {\n",
              "        vertical-align: top;\n",
              "    }\n",
              "\n",
              "    .dataframe thead th {\n",
              "        text-align: right;\n",
              "    }\n",
              "</style>\n",
              "<table border=\"1\" class=\"dataframe\">\n",
              "  <thead>\n",
              "    <tr style=\"text-align: right;\">\n",
              "      <th></th>\n",
              "      <th>loss</th>\n",
              "      <th>val_loss</th>\n",
              "    </tr>\n",
              "  </thead>\n",
              "  <tbody>\n",
              "    <tr>\n",
              "      <th>0</th>\n",
              "      <td>0.164714</td>\n",
              "      <td>0.139793</td>\n",
              "    </tr>\n",
              "    <tr>\n",
              "      <th>1</th>\n",
              "      <td>0.149889</td>\n",
              "      <td>0.141363</td>\n",
              "    </tr>\n",
              "    <tr>\n",
              "      <th>2</th>\n",
              "      <td>0.146686</td>\n",
              "      <td>0.134633</td>\n",
              "    </tr>\n",
              "    <tr>\n",
              "      <th>3</th>\n",
              "      <td>0.140542</td>\n",
              "      <td>0.129881</td>\n",
              "    </tr>\n",
              "    <tr>\n",
              "      <th>4</th>\n",
              "      <td>0.138331</td>\n",
              "      <td>0.127848</td>\n",
              "    </tr>\n",
              "    <tr>\n",
              "      <th>5</th>\n",
              "      <td>0.133936</td>\n",
              "      <td>0.123661</td>\n",
              "    </tr>\n",
              "    <tr>\n",
              "      <th>6</th>\n",
              "      <td>0.131658</td>\n",
              "      <td>0.122530</td>\n",
              "    </tr>\n",
              "    <tr>\n",
              "      <th>7</th>\n",
              "      <td>0.130669</td>\n",
              "      <td>0.122529</td>\n",
              "    </tr>\n",
              "    <tr>\n",
              "      <th>8</th>\n",
              "      <td>0.130648</td>\n",
              "      <td>0.122562</td>\n",
              "    </tr>\n",
              "    <tr>\n",
              "      <th>9</th>\n",
              "      <td>0.123326</td>\n",
              "      <td>0.114136</td>\n",
              "    </tr>\n",
              "  </tbody>\n",
              "</table>\n",
              "</div>"
            ],
            "text/plain": [
              "       loss  val_loss\n",
              "0  0.164714  0.139793\n",
              "1  0.149889  0.141363\n",
              "2  0.146686  0.134633\n",
              "3  0.140542  0.129881\n",
              "4  0.138331  0.127848\n",
              "5  0.133936  0.123661\n",
              "6  0.131658  0.122530\n",
              "7  0.130669  0.122529\n",
              "8  0.130648  0.122562\n",
              "9  0.123326  0.114136"
            ]
          },
          "metadata": {},
          "output_type": "display_data"
        },
        {
          "name": "stdout",
          "output_type": "stream",
          "text": [
            "Weights: [[0.8451733 ]\n",
            " [0.8455764 ]\n",
            " [0.8266512 ]\n",
            " [0.82865316]]\n",
            "Biases: [0.8669555]\n"
          ]
        },
        {
          "data": {
            "image/png": "[encoded data removed]",
            "text/plain": [
              "<Figure size 432x288 with 1 Axes>"
            ]
          },
          "metadata": {},
          "output_type": "display_data"
        }
      ],
      "source": [
        "#MODEL 4: 2 features,  gender, market cap, sector, and role--adding multiple layers\n",
        "\n",
        "model4 = build_model_multi(num_features=4,learning_rate=0.01,hidden_layer_sizes=[256,128])\n",
        "#X = np.asarray(X).astype(np.float32)\n",
        "X = np.asarray(df_train[['gender_boolean','MarketCap_norm', 'Sector_n', 'category_n']]).astype(np.float32)\n",
        "X_test = np.asarray(df_test[['gender_boolean','MarketCap_norm', 'Sector_n', 'category_n']]).astype(np.float32)\n",
        "Y = np.asarray(df_train.Total_norm)\n",
        "Y_test = np.asarray(df_test.Total_norm)\n",
        "\n",
        "#Train the model\n",
        "history4 = model4.fit(\n",
        "  x = X,\n",
        "  y = Y,\n",
        "  validation_split=0.1,  # use 10% of the examples as a validation set\n",
        "  epochs=10,\n",
        "  batch_size=32,\n",
        "  verbose=0)\n",
        "\n",
        "# Convert the return value into a DataFrame so we can see the loss after each\n",
        "# epoch. The history includes training data loss ('loss') and validation data\n",
        "# loss ('val_loss').\n",
        "#history = pd.DataFrame(history.history)\n",
        "display(pd.DataFrame(history4.history))\n",
        "\n",
        "\n",
        "# Use get_weights() which returns lists of weights and biases for the layer.\n",
        "weights, biases = model4.layers[0].get_weights()\n",
        "print('Weights:', weights)\n",
        "print('Biases:', biases)\n",
        "\n",
        "\n",
        "show_history(history4,\"Multilayer neural network with four features\")"
      ]
    },
    {
      "cell_type": "code",
      "execution_count": 79,
      "metadata": {
        "colab": {
          "base_uri": "https://localhost:8080/"
        },
        "id": "9aAj7VrzfJ8B",
        "outputId": "309e657b-520f-46bb-c195-1ac6885513a9"
      },
      "outputs": [
        {
          "name": "stdout",
          "output_type": "stream",
          "text": [
            "X Test Shape: (2664, 4)\n",
            "84/84 [==============================] - 0s 1ms/step\n",
            "Y_pred shape: (2664, 128)\n",
            "Y_pred shape: (2664,)\n",
            "Average RMSE: 0.1762450191890451\n"
          ]
        }
      ],
      "source": [
        "# Calculating RMSE for model 4\n",
        "#X_test = X_test[:,0]\n",
        "print('X Test Shape:', X_test.shape)\n",
        "Y_pred = model4.predict(X_test)\n",
        "\n",
        "print(\"Y_pred shape:\", Y_pred.shape)\n",
        "# Squeeze Y_pred to remove singleton dimensions\n",
        "Y_pred = Y_pred[:,0]\n",
        "print(\"Y_pred shape:\", Y_pred.shape)\n",
        "\n",
        "# Calculate squared differences for each predicted value\n",
        "squared_diff = (Y_pred - Y_test) ** 2\n",
        "\n",
        "# Calculate mean squared error (MSE) for each predicted value\n",
        "mse = np.mean(squared_diff)\n",
        "\n",
        "# Calculate root mean squared error (RMSE) for each predicted value\n",
        "rmse = np.sqrt(mse)\n",
        "\n",
        "# Calculate average RMSE across all predicted values\n",
        "average_rmse4 = np.mean(rmse)\n",
        "\n",
        "print(\"Average RMSE:\", average_rmse4)"
      ]
    },
    {
      "cell_type": "markdown",
      "metadata": {
        "id": "_HfoVMupg_71"
      },
      "source": [
        "# Model 5: Multi-layer neutral network, using catergorical data, transformed with one-hot encoding.\n",
        "\n",
        "Finally, using the GICS sectors, we transform the categorical features using one-hot encoding and run a multi-neutral network model with 11 features.  The model shows that compensation gaps exist in all sectors. "
      ]
    },
    {
      "cell_type": "code",
      "execution_count": 80,
      "metadata": {
        "colab": {
          "base_uri": "https://localhost:8080/",
          "height": 386
        },
        "id": "HLT6SdiRh2mG",
        "outputId": "1b10ba41-2e18-4dc5-b678-9196cffccaa7"
      },
      "outputs": [
        {
          "data": {
            "text/html": [
              "<div>\n",
              "<style scoped>\n",
              "    .dataframe tbody tr th:only-of-type {\n",
              "        vertical-align: middle;\n",
              "    }\n",
              "\n",
              "    .dataframe tbody tr th {\n",
              "        vertical-align: top;\n",
              "    }\n",
              "\n",
              "    .dataframe thead tr th {\n",
              "        text-align: left;\n",
              "    }\n",
              "</style>\n",
              "<table border=\"1\" class=\"dataframe\">\n",
              "  <thead>\n",
              "    <tr>\n",
              "      <th></th>\n",
              "      <th>onehotencoder__Sector_Basic Materials</th>\n",
              "      <th>onehotencoder__Sector_Communication Services</th>\n",
              "      <th>onehotencoder__Sector_Consumer Cyclical</th>\n",
              "      <th>onehotencoder__Sector_Consumer Defensive</th>\n",
              "      <th>onehotencoder__Sector_Energy</th>\n",
              "      <th>onehotencoder__Sector_Financial Services</th>\n",
              "      <th>onehotencoder__Sector_Healthcare</th>\n",
              "      <th>onehotencoder__Sector_Industrials</th>\n",
              "      <th>onehotencoder__Sector_Real Estate</th>\n",
              "      <th>onehotencoder__Sector_Technology</th>\n",
              "      <th>...</th>\n",
              "      <th>remainder__MarketCap</th>\n",
              "      <th>remainder__Industry</th>\n",
              "      <th>remainder__category</th>\n",
              "      <th>remainder__categorized_role</th>\n",
              "      <th>remainder__gender_boolean</th>\n",
              "      <th>remainder__BinnedCompensation</th>\n",
              "      <th>remainder__Total_norm</th>\n",
              "      <th>remainder__MarketCap_norm</th>\n",
              "      <th>remainder__Sector_n</th>\n",
              "      <th>remainder__category_n</th>\n",
              "    </tr>\n",
              "  </thead>\n",
              "  <tbody>\n",
              "    <tr>\n",
              "      <th>0</th>\n",
              "      <td>0.0</td>\n",
              "      <td>0.0</td>\n",
              "      <td>0.0</td>\n",
              "      <td>0.0</td>\n",
              "      <td>0.0</td>\n",
              "      <td>1.0</td>\n",
              "      <td>0.0</td>\n",
              "      <td>0.0</td>\n",
              "      <td>0.0</td>\n",
              "      <td>0.0</td>\n",
              "      <td>...</td>\n",
              "      <td>121784320000</td>\n",
              "      <td>Banks - Regional</td>\n",
              "      <td>CFO</td>\n",
              "      <td>CFO</td>\n",
              "      <td>0</td>\n",
              "      <td>(7000000, 8000000]</td>\n",
              "      <td>0.580144</td>\n",
              "      <td>0.823964</td>\n",
              "      <td>5</td>\n",
              "      <td>2</td>\n",
              "    </tr>\n",
              "    <tr>\n",
              "      <th>1</th>\n",
              "      <td>0.0</td>\n",
              "      <td>0.0</td>\n",
              "      <td>0.0</td>\n",
              "      <td>0.0</td>\n",
              "      <td>0.0</td>\n",
              "      <td>0.0</td>\n",
              "      <td>0.0</td>\n",
              "      <td>1.0</td>\n",
              "      <td>0.0</td>\n",
              "      <td>0.0</td>\n",
              "      <td>...</td>\n",
              "      <td>96343392</td>\n",
              "      <td>Specialty Industrial Machinery</td>\n",
              "      <td>CHRO</td>\n",
              "      <td>CHRO</td>\n",
              "      <td>0</td>\n",
              "      <td>(500000, 1000000]</td>\n",
              "      <td>0.213296</td>\n",
              "      <td>0.398357</td>\n",
              "      <td>7</td>\n",
              "      <td>3</td>\n",
              "    </tr>\n",
              "    <tr>\n",
              "      <th>2</th>\n",
              "      <td>0.0</td>\n",
              "      <td>0.0</td>\n",
              "      <td>0.0</td>\n",
              "      <td>0.0</td>\n",
              "      <td>0.0</td>\n",
              "      <td>0.0</td>\n",
              "      <td>1.0</td>\n",
              "      <td>0.0</td>\n",
              "      <td>0.0</td>\n",
              "      <td>0.0</td>\n",
              "      <td>...</td>\n",
              "      <td>1886845824</td>\n",
              "      <td>Medical Instruments &amp; Supplies</td>\n",
              "      <td>CEO</td>\n",
              "      <td>CEO</td>\n",
              "      <td>0</td>\n",
              "      <td>(7000000, 8000000]</td>\n",
              "      <td>0.574313</td>\n",
              "      <td>0.575626</td>\n",
              "      <td>6</td>\n",
              "      <td>1</td>\n",
              "    </tr>\n",
              "    <tr>\n",
              "      <th>3</th>\n",
              "      <td>0.0</td>\n",
              "      <td>0.0</td>\n",
              "      <td>0.0</td>\n",
              "      <td>0.0</td>\n",
              "      <td>0.0</td>\n",
              "      <td>0.0</td>\n",
              "      <td>0.0</td>\n",
              "      <td>1.0</td>\n",
              "      <td>0.0</td>\n",
              "      <td>0.0</td>\n",
              "      <td>...</td>\n",
              "      <td>63080336</td>\n",
              "      <td>Railroads</td>\n",
              "      <td>CFO</td>\n",
              "      <td>CFO</td>\n",
              "      <td>0</td>\n",
              "      <td>(3000000, 4000000]</td>\n",
              "      <td>0.458482</td>\n",
              "      <td>0.373119</td>\n",
              "      <td>7</td>\n",
              "      <td>2</td>\n",
              "    </tr>\n",
              "    <tr>\n",
              "      <th>4</th>\n",
              "      <td>1.0</td>\n",
              "      <td>0.0</td>\n",
              "      <td>0.0</td>\n",
              "      <td>0.0</td>\n",
              "      <td>0.0</td>\n",
              "      <td>0.0</td>\n",
              "      <td>0.0</td>\n",
              "      <td>0.0</td>\n",
              "      <td>0.0</td>\n",
              "      <td>0.0</td>\n",
              "      <td>...</td>\n",
              "      <td>841816960</td>\n",
              "      <td>Specialty Chemicals</td>\n",
              "      <td>Other</td>\n",
              "      <td>Other</td>\n",
              "      <td>0</td>\n",
              "      <td>(2000000, 3000000]</td>\n",
              "      <td>0.405131</td>\n",
              "      <td>0.527530</td>\n",
              "      <td>0</td>\n",
              "      <td>11</td>\n",
              "    </tr>\n",
              "  </tbody>\n",
              "</table>\n",
              "<p>5 rows × 38 columns</p>\n",
              "</div>"
            ],
            "text/plain": [
              "  onehotencoder__Sector_Basic Materials  \\\n",
              "0                                   0.0   \n",
              "1                                   0.0   \n",
              "2                                   0.0   \n",
              "3                                   0.0   \n",
              "4                                   1.0   \n",
              "\n",
              "  onehotencoder__Sector_Communication Services  \\\n",
              "0                                          0.0   \n",
              "1                                          0.0   \n",
              "2                                          0.0   \n",
              "3                                          0.0   \n",
              "4                                          0.0   \n",
              "\n",
              "  onehotencoder__Sector_Consumer Cyclical  \\\n",
              "0                                     0.0   \n",
              "1                                     0.0   \n",
              "2                                     0.0   \n",
              "3                                     0.0   \n",
              "4                                     0.0   \n",
              "\n",
              "  onehotencoder__Sector_Consumer Defensive onehotencoder__Sector_Energy  \\\n",
              "0                                      0.0                          0.0   \n",
              "1                                      0.0                          0.0   \n",
              "2                                      0.0                          0.0   \n",
              "3                                      0.0                          0.0   \n",
              "4                                      0.0                          0.0   \n",
              "\n",
              "  onehotencoder__Sector_Financial Services onehotencoder__Sector_Healthcare  \\\n",
              "0                                      1.0                              0.0   \n",
              "1                                      0.0                              0.0   \n",
              "2                                      0.0                              1.0   \n",
              "3                                      0.0                              0.0   \n",
              "4                                      0.0                              0.0   \n",
              "\n",
              "  onehotencoder__Sector_Industrials onehotencoder__Sector_Real Estate  \\\n",
              "0                               0.0                               0.0   \n",
              "1                               1.0                               0.0   \n",
              "2                               0.0                               0.0   \n",
              "3                               1.0                               0.0   \n",
              "4                               0.0                               0.0   \n",
              "\n",
              "  onehotencoder__Sector_Technology  ... remainder__MarketCap  \\\n",
              "0                              0.0  ...         121784320000   \n",
              "1                              0.0  ...             96343392   \n",
              "2                              0.0  ...           1886845824   \n",
              "3                              0.0  ...             63080336   \n",
              "4                              0.0  ...            841816960   \n",
              "\n",
              "              remainder__Industry remainder__category  \\\n",
              "0                Banks - Regional                 CFO   \n",
              "1  Specialty Industrial Machinery                CHRO   \n",
              "2  Medical Instruments & Supplies                 CEO   \n",
              "3                       Railroads                 CFO   \n",
              "4             Specialty Chemicals               Other   \n",
              "\n",
              "  remainder__categorized_role remainder__gender_boolean  \\\n",
              "0                         CFO                         0   \n",
              "1                        CHRO                         0   \n",
              "2                         CEO                         0   \n",
              "3                         CFO                         0   \n",
              "4                       Other                         0   \n",
              "\n",
              "  remainder__BinnedCompensation remainder__Total_norm  \\\n",
              "0            (7000000, 8000000]              0.580144   \n",
              "1             (500000, 1000000]              0.213296   \n",
              "2            (7000000, 8000000]              0.574313   \n",
              "3            (3000000, 4000000]              0.458482   \n",
              "4            (2000000, 3000000]              0.405131   \n",
              "\n",
              "  remainder__MarketCap_norm remainder__Sector_n remainder__category_n  \n",
              "0                  0.823964                   5                     2  \n",
              "1                  0.398357                   7                     3  \n",
              "2                  0.575626                   6                     1  \n",
              "3                  0.373119                   7                     2  \n",
              "4                  0.527530                   0                    11  \n",
              "\n",
              "[5 rows x 38 columns]"
            ]
          },
          "execution_count": 80,
          "metadata": {},
          "output_type": "execute_result"
        }
      ],
      "source": [
        "# In this block, we transfor the catergorical variables with one-hot encoding \n",
        "\n",
        "\n",
        "df_one_hot_code_test =df_test[['Sector', 'category','gender_boolean', 'Total_norm', 'MarketCap_norm']]\n",
        "df_one_hot_code_test = df_one_hot_code_test.dropna()\n",
        "\n",
        "\n",
        " # Transform categorcial variables using sklearn \n",
        "df_train.dropna()\n",
        "transformer = make_column_transformer((OneHotEncoder(), ['Sector']), remainder = 'passthrough')\n",
        "transformed = transformer.fit_transform(df_train)\n",
        "transformed_test = transformer.fit_transform(df_test)\n",
        "transformed_df = pd.DataFrame(transformed, columns = [transformer.get_feature_names_out()])\n",
        "transformed_df_test = pd.DataFrame(transformed_test, columns = [transformer.get_feature_names_out()])\n",
        "\n",
        "gic_sector_columns = [ 'onehotencoder__Sector_Basic Materials', 'onehotencoder__Sector_Communication Services', \n",
        "                              'onehotencoder__Sector_Consumer Cyclical', 'onehotencoder__Sector_Consumer Defensive', \n",
        "                              'onehotencoder__Sector_Energy', 'onehotencoder__Sector_Financial Services', \n",
        "                              'onehotencoder__Sector_Healthcare', 'onehotencoder__Sector_Industrials', \n",
        "                              'onehotencoder__Sector_Real Estate', 'onehotencoder__Sector_Technology', \n",
        "                              'onehotencoder__Sector_Utilities', 'remainder__gender_boolean', \n",
        "                              'remainder__MarketCap_norm','remainder__Total_norm']\n",
        "\n",
        "transformed_df[gic_sector_columns] = transformed_df[gic_sector_columns].apply(pd.to_numeric)\n",
        "transformed_df_test[gic_sector_columns] = transformed_df_test[gic_sector_columns].apply(pd.to_numeric)\n",
        "\n",
        "transformed_df.head(5)"
      ]
    },
    {
      "cell_type": "code",
      "execution_count": 81,
      "metadata": {
        "colab": {
          "base_uri": "https://localhost:8080/",
          "height": 1000
        },
        "id": "hntNmoLdivtT",
        "outputId": "aa9b18dd-76fb-4111-eb72-68bc66e7f3df"
      },
      "outputs": [
        {
          "data": {
            "text/html": [
              "<div>\n",
              "<style scoped>\n",
              "    .dataframe tbody tr th:only-of-type {\n",
              "        vertical-align: middle;\n",
              "    }\n",
              "\n",
              "    .dataframe tbody tr th {\n",
              "        vertical-align: top;\n",
              "    }\n",
              "\n",
              "    .dataframe thead th {\n",
              "        text-align: right;\n",
              "    }\n",
              "</style>\n",
              "<table border=\"1\" class=\"dataframe\">\n",
              "  <thead>\n",
              "    <tr style=\"text-align: right;\">\n",
              "      <th></th>\n",
              "      <th>loss</th>\n",
              "      <th>val_loss</th>\n",
              "    </tr>\n",
              "  </thead>\n",
              "  <tbody>\n",
              "    <tr>\n",
              "      <th>0</th>\n",
              "      <td>0.084825</td>\n",
              "      <td>0.070594</td>\n",
              "    </tr>\n",
              "    <tr>\n",
              "      <th>1</th>\n",
              "      <td>0.074919</td>\n",
              "      <td>0.073606</td>\n",
              "    </tr>\n",
              "    <tr>\n",
              "      <th>2</th>\n",
              "      <td>0.074638</td>\n",
              "      <td>0.073564</td>\n",
              "    </tr>\n",
              "    <tr>\n",
              "      <th>3</th>\n",
              "      <td>0.071945</td>\n",
              "      <td>0.065282</td>\n",
              "    </tr>\n",
              "    <tr>\n",
              "      <th>4</th>\n",
              "      <td>0.065831</td>\n",
              "      <td>0.062822</td>\n",
              "    </tr>\n",
              "    <tr>\n",
              "      <th>5</th>\n",
              "      <td>0.064916</td>\n",
              "      <td>0.062994</td>\n",
              "    </tr>\n",
              "    <tr>\n",
              "      <th>6</th>\n",
              "      <td>0.064614</td>\n",
              "      <td>0.061240</td>\n",
              "    </tr>\n",
              "    <tr>\n",
              "      <th>7</th>\n",
              "      <td>0.062312</td>\n",
              "      <td>0.059935</td>\n",
              "    </tr>\n",
              "    <tr>\n",
              "      <th>8</th>\n",
              "      <td>0.061029</td>\n",
              "      <td>0.058012</td>\n",
              "    </tr>\n",
              "    <tr>\n",
              "      <th>9</th>\n",
              "      <td>0.060298</td>\n",
              "      <td>0.059849</td>\n",
              "    </tr>\n",
              "  </tbody>\n",
              "</table>\n",
              "</div>"
            ],
            "text/plain": [
              "       loss  val_loss\n",
              "0  0.084825  0.070594\n",
              "1  0.074919  0.073606\n",
              "2  0.074638  0.073564\n",
              "3  0.071945  0.065282\n",
              "4  0.065831  0.062822\n",
              "5  0.064916  0.062994\n",
              "6  0.064614  0.061240\n",
              "7  0.062312  0.059935\n",
              "8  0.061029  0.058012\n",
              "9  0.060298  0.059849"
            ]
          },
          "metadata": {},
          "output_type": "display_data"
        },
        {
          "name": "stdout",
          "output_type": "stream",
          "text": [
            "Weights: [[0.6333406 ]\n",
            " [0.86150956]\n",
            " [0.41618294]\n",
            " [0.5687421 ]\n",
            " [0.91143495]\n",
            " [1.0658157 ]\n",
            " [0.78765273]\n",
            " [0.90307623]\n",
            " [1.0932142 ]\n",
            " [1.0395987 ]\n",
            " [1.6552621 ]\n",
            " [0.2254369 ]]\n",
            "Biases: [0.8320875]\n"
          ]
        },
        {
          "data": {
            "image/png": "[encoded data removed]",
            "text/plain": [
              "<Figure size 432x288 with 1 Axes>"
            ]
          },
          "metadata": {},
          "output_type": "display_data"
        }
      ],
      "source": [
        "#MODEL 5: One hot encoding using sector specification and gender.  Use the above one-hot encoding.  Model has 12 features in total .\n",
        "\n",
        "x_columns = ['onehotencoder__Sector_Basic Materials', 'onehotencoder__Sector_Communication Services', \n",
        "             'onehotencoder__Sector_Consumer Cyclical', 'onehotencoder__Sector_Consumer Defensive', \n",
        "             'onehotencoder__Sector_Energy', 'onehotencoder__Sector_Financial Services', \n",
        "             'onehotencoder__Sector_Healthcare', 'onehotencoder__Sector_Industrials', \n",
        "             'onehotencoder__Sector_Real Estate', 'onehotencoder__Sector_Technology', \n",
        "             'onehotencoder__Sector_Utilities', 'remainder__gender_boolean']\n",
        "\n",
        "x_columns_mapping = {'onehotencoder__Sector_Basic Materials': \"Basic Materials\",\n",
        "                     'onehotencoder__Sector_Communication Services': \"Communications Services\", \n",
        "                     'onehotencoder__Sector_Consumer Cyclical': \"Consumer Cyclical\", \n",
        "                     'onehotencoder__Sector_Consumer Defensive': \"Consumer Defensive\", \n",
        "                     'onehotencoder__Sector_Energy':\"Energy\", \n",
        "                     'onehotencoder__Sector_Financial Services': \"Financial Services\", \n",
        "                     'onehotencoder__Sector_Healthcare': \"Healthcare\",\n",
        "                     'onehotencoder__Sector_Industrials' : \"Industrials\", \n",
        "                     'onehotencoder__Sector_Real Estate': \"Real Estate\",\n",
        "                     'onehotencoder__Sector_Technology': \"Technology\", \n",
        "                     'onehotencoder__Sector_Utilities': \"Utilities\"}\n",
        "\n",
        "y_columns = ['remainder__Total_norm']\n",
        "\n",
        "model5 = build_model_multi(num_features=12,learning_rate=0.01,hidden_layer_sizes=[256,128])\n",
        "\n",
        "X = np.asarray(transformed_df[x_columns])\n",
        "X_test = np.asarray(transformed_df_test[x_columns])\n",
        "Y = np.asarray(transformed_df[[y_columns]])\n",
        "Y_test = np.asarray(transformed_df_test[[y_columns]])\n",
        "\n",
        "#Train the model\n",
        "history5 = model5.fit(\n",
        "  x = X,\n",
        "  y = Y,\n",
        "  validation_split=0.1,  # use 10% of the examples as a validation set\n",
        "  epochs=10,\n",
        "  batch_size=32,\n",
        "  verbose=0)\n",
        "\n",
        "# Convert the return value into a DataFrame so we can see the loss after each\n",
        "# epoch. The history includes training data loss ('loss') and validation data\n",
        "# loss ('val_loss').\n",
        "display(pd.DataFrame(history5.history))\n",
        "\n",
        "\n",
        "# Use get_weights() which returns lists of weights and biases for the layer.\n",
        "weights, biases = model5.layers[0].get_weights()\n",
        "print('Weights:', weights)\n",
        "print('Biases:', biases)\n",
        "\n",
        "\n",
        "show_history(history5,\"Multilayer neural network with 12 features\")"
      ]
    },
    {
      "cell_type": "code",
      "execution_count": 82,
      "metadata": {
        "colab": {
          "base_uri": "https://localhost:8080/"
        },
        "id": "HXxJNj4Vjgtl",
        "outputId": "0114a649-ad74-43a3-8a29-f84451dfd300"
      },
      "outputs": [
        {
          "name": "stdout",
          "output_type": "stream",
          "text": [
            "84/84 [==============================] - 0s 1ms/step\n",
            "Y_pred shape: (2664, 128)\n",
            "Y_pred shape: (2664,)\n",
            "Average RMSE: 0.17880152427998205\n"
          ]
        }
      ],
      "source": [
        "# Calculating RMSE for model 5\n",
        "Y_pred = model5.predict(X_test)\n",
        "\n",
        "print(\"Y_pred shape:\", Y_pred.shape)\n",
        "# Squeeze Y_pred to remove singleton dimensions\n",
        "Y_pred = Y_pred[:,0]\n",
        "print(\"Y_pred shape:\", Y_pred.shape)\n",
        "\n",
        "# Calculate squared differences for each predicted value\n",
        "squared_diff = (Y_pred - Y_test) ** 2\n",
        "\n",
        "# Calculate mean squared error (MSE) for each predicted value\n",
        "mse = np.mean(squared_diff)\n",
        "\n",
        "# Calculate root mean squared error (RMSE) for each predicted value\n",
        "rmse = np.sqrt(mse)\n",
        "\n",
        "# Calculate average RMSE across all predicted values\n",
        "average_rmse5 = np.mean(rmse)\n",
        "\n",
        "print(\"Average RMSE:\", average_rmse5)"
      ]
    },
    {
      "cell_type": "code",
      "execution_count": 86,
      "metadata": {
        "colab": {
          "base_uri": "https://localhost:8080/",
          "height": 1000
        },
        "id": "75XE1wa-jSZ6",
        "outputId": "c5bf8ffb-e9f2-4918-fa78-db2fb48aa971"
      },
      "outputs": [
        {
          "name": "stdout",
          "output_type": "stream",
          "text": [
            "1/1 [==============================] - 0s 42ms/step\n",
            "1/1 [==============================] - 0s 44ms/step\n",
            "1/1 [==============================] - 0s 42ms/step\n",
            "1/1 [==============================] - 0s 42ms/step\n",
            "1/1 [==============================] - 0s 44ms/step\n",
            "1/1 [==============================] - 0s 45ms/step\n",
            "1/1 [==============================] - 0s 42ms/step\n",
            "1/1 [==============================] - 0s 47ms/step\n",
            "1/1 [==============================] - 0s 44ms/step\n",
            "1/1 [==============================] - 0s 40ms/step\n",
            "1/1 [==============================] - 0s 41ms/step\n",
            "1/1 [==============================] - 0s 41ms/step\n",
            "1/1 [==============================] - 0s 48ms/step\n",
            "1/1 [==============================] - 0s 48ms/step\n",
            "1/1 [==============================] - 0s 71ms/step\n",
            "1/1 [==============================] - 0s 55ms/step\n",
            "1/1 [==============================] - 0s 49ms/step\n",
            "1/1 [==============================] - 0s 47ms/step\n",
            "1/1 [==============================] - 0s 46ms/step\n",
            "1/1 [==============================] - 0s 45ms/step\n",
            "1/1 [==============================] - 0s 43ms/step\n",
            "1/1 [==============================] - 0s 43ms/step\n",
            "<function xticks at 0x7fbe34794dc0>\n",
            "['Basic Materials', 'Communications Services', 'Consumer Cyclical', 'Consumer Defensive', 'Energy', 'Financial Services', 'Healthcare', 'Industrials', 'Real Estate', 'Technology', 'Utilities']\n"
          ]
        },
        {
          "data": {
            "image/png": "[encoded data removed]",
            "text/plain": [
              "<Figure size 720x576 with 1 Axes>"
            ]
          },
          "metadata": {},
          "output_type": "display_data"
        }
      ],
      "source": [
        "# Save predictions to dataframe, creating values for graphs\n",
        "\n",
        "model5_predictions = []\n",
        "for index,column in enumerate(x_columns[:-1]):\n",
        "  tmp_array = [0]*12\n",
        "  # gender_bool 0 in first prediction\n",
        "  tmp_array[index] = 1\n",
        "  model5_predictions.append([x_columns_mapping[column], \"male\", unnormalize_total(model5.predict([tmp_array])[0][0])])\n",
        "  # change the gender at index 11 to female, which is 1\n",
        "  tmp_array[11] = 1\n",
        "  model5_predictions.append([x_columns_mapping[column], \"female\", unnormalize_total(model5.predict([tmp_array])[0][0])])\n",
        "\n",
        "df_model5_predictions = pd.DataFrame(model5_predictions, columns=['Sector', \"Gender\", \"Total_Compensation\"])\n",
        "\n",
        "\n",
        "# Plotting bar chart with female/male by sector\n",
        "\n",
        "print(plt.xticks)\n",
        "\n",
        "\n",
        "female = df_model5_predictions[df_model5_predictions['Gender'] == 'female']\n",
        "male = df_model5_predictions[df_model5_predictions['Gender'] == 'male']\n",
        "\n",
        "x_pos = np.arange(len(female))\n",
        "tick_labels = female.Sector.tolist()\n",
        "print(tick_labels)\n",
        "\n",
        "plt.figure(figsize=(10, 8))\n",
        "plt.bar(x_pos - 0.2, female['Total_Compensation'], width=0.4, label='Female', color = 'r')\n",
        "plt.bar(x_pos + 0.2, male['Total_Compensation'], width=0.4, label='Male', color ='b')\n",
        "plt.xticks(ticks =[ 0,  1,  2,  3,  4,  5 , 6,  7,  8,  9, 10], labels=['Basic Materials', 'Communications Services', 'Consumer Cyclical', 'Consumer Defensive', \n",
        "                                                'Energy', 'Financial Services', 'Healthcare', 'Industrials', 'Real Estate', 'Technology', 'Utilities'],rotation = 'vertical')\n",
        "plt.ylabel (\"Compensation in $ millions\")\n",
        "plt.title (\"Total Compensation Prediction by Sector and Gender, Using Transformer\", fontweight = 'bold')\n",
        "plt.ylim(1800000, 2800000)\n",
        "plt.legend()\n",
        "plt.show()\n",
        "\n"
      ]
    },
    {
      "attachments": {},
      "cell_type": "markdown",
      "metadata": {
        "id": "Ywub35PhsXiT"
      },
      "source": [
        "## Comparing Models using Root Mean Square Error\n",
        "\n",
        "We found that the L2 ridge model is the most accurate, indicating that ormalization yielded greater predicted power than additional layers or features. "
      ]
    },
    {
      "cell_type": "code",
      "execution_count": 84,
      "metadata": {
        "colab": {
          "base_uri": "https://localhost:8080/",
          "height": 573
        },
        "id": "p9HrWFvXkVGd",
        "outputId": "28fac37e-dfcd-4ce5-d705-b9f60b7dcd39"
      },
      "outputs": [
        {
          "data": {
            "image/png": "[encoded data removed]",
            "text/plain": [
              "<Figure size 720x432 with 1 Axes>"
            ]
          },
          "metadata": {},
          "output_type": "display_data"
        }
      ],
      "source": [
        "# List of model names\n",
        "model_names = ['Model 1', 'Model 2', 'Model 3', 'L2 Ridge', 'Model 4', 'Model 5']\n",
        "\n",
        "# : One Feature, One Layer, : One Layer, Two Features, : Multilayer, Two Features, : Multilayer, Two Features,: Multilayer, 12 Features\n",
        "# List of RMSE values for each model\n",
        "rmse_values = [average_rmse1, average_rmse2, average_rmse3, average_rmse_ridge, average_rmse4, average_rmse5]\n",
        "\n",
        "# Create a bar plot for RMSE values\n",
        "plt.figure(figsize=(10, 6))  \n",
        "plt.bar(model_names, rmse_values, color='blue')  \n",
        "plt.xlabel('Models')  \n",
        "plt.ylabel('RMSE')  \n",
        "plt.title('Comparison of RMSE for Six Models Using Test Data Results', fontweight = \"bold\")  \n",
        "plt.ylim(0, 0.5)  # Set the y-axis limits\n",
        "plt.grid(axis='y', linestyle='--')  # Add a grid to the y-axis\n",
        "plt.show()  # Display the plot"
      ]
    },
    {
      "cell_type": "markdown",
      "metadata": {
        "id": "uW52IIljvT-p"
      },
      "source": [
        "# Section 5: Ethical Considerations \n",
        "\n",
        "\n",
        "Several ethical considerations arose during our problem definition and analysis, both in terms of the constraints and specifics of the scope of this project and the broader implications of using machine learning to understand and predict pay and barriers to pay equity. In our dataset, there was a limited sample size of female executives. The SEC data has a limited number of female executives relative to male executives, particularly in specific sectors or companies where women are especially underrepresented in leadership positions. This can make it difficult to draw meaningful conclusions about gender pay disparities at the executive level and may lead to underestimating the extent of the problem. The SEC data focuses primarily on executive compensation, which is not reflective of the compensation differences amongst employee groups at different levels of seniority, particularly those in lower-level positions who may be more vulnerable to pay disparities. The models are not well-suited to deployment in contexts related to non-executive compensation. An additional fairness concern stems from using genderize.io to add in assumed gender. \n",
        "\n",
        "In a study from 2021, the NIH found a significant number of nonclassifications (16.4%), mainly when testing in more multicultural contexts. In our usage, the approach was to drop names where Genderize.io is inconclusive, raising concerns about removing data from the sample in a biased way. This generally removed individuals from the sample where an initial was listed for the individual’s first name. We also dropped anyone with a salary below $100k from the sample. Using Genderize.io additionally risks marginalizing some individuals who do not recognize themselves in the binary differentiation. Caution and safety checks are needed to avoid encoding or potentially exacerbating bias against people of specific gender identities, particularly with more complex models that lack explainability. \n",
        "\n",
        "For using machine learning outside of specific contexts where salary transparency and total pay disclosure are clearly established, it is vital to adhere to requirements around consent and stringent PII protections, which frequently change due to the increased ability to identify someone based on limited information. Though executives of public companies are subject to pay disclosures, we found discrepancies in the SEC data that risked misrepresenting the state of pay equity and perpetuating inaccuracies related to individual compensation. Overall, advancements in machine learning techniques can represent a significant opportunity to improve understanding of and solutions to addressing barriers to pay equity; however, without careful consideration, they can risk exacerbating the inequities they can help address, particularly in situations where accountability is unestablished.\n",
        "\n",
        "\n",
        "\n"
      ]
    },
    {
      "cell_type": "markdown",
      "metadata": {
        "id": "uLiAiLilybIZ"
      },
      "source": [
        "# Section 6: Conclusions\n",
        "\n",
        "Using publically available data on executive compensation, our models, ranging from simple regression to multi-featured, multilayer neural networks, consistently predict that male executives outperform female executives.\n",
        "Some observational studies show that in some positions and sectors, some women outearn their male counterparts, but our machine-learning models do not support this.\n",
        "\n",
        "\n",
        "We acknowledge the limitations of our research; data quality is an issue, and pulling raw data from SEC filings does not yield a clean data set. We noted several discrepancies and problems in our data cleaning. Finally, the data does not give a complete picture, as there needs to be more information on the length of tenure and family situation. \n",
        "\n",
        "There are several areas for further research. For example, machine learning techniques could be used to predict the success of different pay equity initiatives. Machine learning tools could be used to predict women's ascent to the C-suite within different organizations, industries, and sectors.\n"
      ]
    }
  ],
  "metadata": {
    "colab": {
      "provenance": []
    },
    "kernelspec": {
      "display_name": "Python 3",
      "name": "python3"
    },
    "language_info": {
      "codemirror_mode": {
        "name": "ipython",
        "version": 3
      },
      "file_extension": ".py",
      "mimetype": "text/x-python",
      "name": "python",
      "nbconvert_exporter": "python",
      "pygments_lexer": "ipython3",
      "version": "3.9.7"
    }
  },
  "nbformat": 4,
  "nbformat_minor": 0
}
